{
 "cells": [
  {
   "cell_type": "code",
   "execution_count": 1,
   "id": "47fd14c7",
   "metadata": {},
   "outputs": [],
   "source": [
    "import turtle\n",
    "\n",
    "win = turtle.Screen()\n",
    "win.bgcolor(\"black\")\n",
    "\n",
    "t = turtle.Turtle()\n",
    "t.color(\"red\")\n",
    "\n",
    "for i in range(36) :\n",
    "    t.forward(10 + i * 5)\n",
    "    t.left(90)\n",
    "    t.forward(10 + i * 5)\n",
    "    t.left(90)\n",
    "    t.forward(10 + i * 5)\n",
    "    t.left(90)\n",
    "    t.forward(10 + i * 5)\n",
    "    t.left(80)"
   ]
  }
 ],
 "metadata": {
  "kernelspec": {
   "display_name": "Python 3 (ipykernel)",
   "language": "python",
   "name": "python3"
  },
  "language_info": {
   "codemirror_mode": {
    "name": "ipython",
    "version": 3
   },
   "file_extension": ".py",
   "mimetype": "text/x-python",
   "name": "python",
   "nbconvert_exporter": "python",
   "pygments_lexer": "ipython3",
   "version": "3.9.12"
  }
 },
 "nbformat": 4,
 "nbformat_minor": 5
}
