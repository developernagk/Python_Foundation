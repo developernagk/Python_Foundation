{
 "cells": [
  {
   "cell_type": "code",
   "execution_count": 1,
   "id": "784eef49",
   "metadata": {},
   "outputs": [
    {
     "name": "stdout",
     "output_type": "stream",
     "text": [
      "동아대학교\n"
     ]
    }
   ],
   "source": [
    "print(\"동아대학교\")"
   ]
  },
  {
   "cell_type": "code",
   "execution_count": 2,
   "id": "cc424647",
   "metadata": {},
   "outputs": [
    {
     "name": "stdout",
     "output_type": "stream",
     "text": [
      "김나경\n"
     ]
    }
   ],
   "source": [
    "print(\"김나경\")"
   ]
  },
  {
   "cell_type": "code",
   "execution_count": 4,
   "id": "5a5b2da2",
   "metadata": {},
   "outputs": [
    {
     "data": {
      "text/plain": [
       "157"
      ]
     },
     "execution_count": 4,
     "metadata": {},
     "output_type": "execute_result"
    }
   ],
   "source": [
    "34 + 123"
   ]
  },
  {
   "cell_type": "code",
   "execution_count": 5,
   "id": "47d8f94c",
   "metadata": {},
   "outputs": [
    {
     "name": "stdout",
     "output_type": "stream",
     "text": [
      "157\n"
     ]
    }
   ],
   "source": [
    "print(34+123)"
   ]
  },
  {
   "cell_type": "code",
   "execution_count": 6,
   "id": "f9c30c64",
   "metadata": {},
   "outputs": [
    {
     "data": {
      "text/plain": [
       "144"
      ]
     },
     "execution_count": 6,
     "metadata": {},
     "output_type": "execute_result"
    }
   ],
   "source": [
    "12 * 12"
   ]
  },
  {
   "cell_type": "code",
   "execution_count": 7,
   "id": "7266e7cb",
   "metadata": {},
   "outputs": [
    {
     "data": {
      "text/plain": [
       "156"
      ]
     },
     "execution_count": 7,
     "metadata": {},
     "output_type": "execute_result"
    }
   ],
   "source": [
    "12 * 12 + 12"
   ]
  },
  {
   "cell_type": "code",
   "execution_count": 8,
   "id": "2432a234",
   "metadata": {},
   "outputs": [
    {
     "name": "stdout",
     "output_type": "stream",
     "text": [
      "동아대학교\n",
      "김나경\n",
      "5012\n",
      "60000\n"
     ]
    }
   ],
   "source": [
    "print(\"동아대학교\")\n",
    "print(\"김나경\")\n",
    "print(12 + 5000)\n",
    "print(12 * 5000)"
   ]
  },
  {
   "cell_type": "code",
   "execution_count": 9,
   "id": "52076b26",
   "metadata": {},
   "outputs": [
    {
     "name": "stdout",
     "output_type": "stream",
     "text": [
      "adult\n"
     ]
    }
   ],
   "source": [
    "age = 25 #test_실행\n",
    "\n",
    "if age > 65 :\n",
    "    print(\"senior\")\n",
    "elif age > 20 :\n",
    "    print(\"adult\")\n",
    "else :\n",
    "    print(\"young\")"
   ]
  },
  {
   "cell_type": "code",
   "execution_count": 10,
   "id": "ffd51e7d",
   "metadata": {},
   "outputs": [
    {
     "name": "stdout",
     "output_type": "stream",
     "text": [
      "0\n",
      "100\n",
      "200\n",
      "300\n",
      "400\n",
      "500\n",
      "600\n",
      "700\n",
      "800\n",
      "900\n"
     ]
    }
   ],
   "source": [
    "step = 0 #while_test\n",
    "\n",
    "while step < 1000 :\n",
    "    print(step)\n",
    "    step = step + 100"
   ]
  }
 ],
 "metadata": {
  "kernelspec": {
   "display_name": "Python 3 (ipykernel)",
   "language": "python",
   "name": "python3"
  },
  "language_info": {
   "codemirror_mode": {
    "name": "ipython",
    "version": 3
   },
   "file_extension": ".py",
   "mimetype": "text/x-python",
   "name": "python",
   "nbconvert_exporter": "python",
   "pygments_lexer": "ipython3",
   "version": "3.9.12"
  }
 },
 "nbformat": 4,
 "nbformat_minor": 5
}
