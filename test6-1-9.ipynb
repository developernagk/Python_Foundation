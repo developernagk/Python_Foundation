{
 "cells": [
  {
   "cell_type": "code",
   "execution_count": 1,
   "id": "c90cecff",
   "metadata": {},
   "outputs": [
    {
     "ename": "AttributeError",
     "evalue": "'_Screen' object has no attribute 'done'",
     "output_type": "error",
     "traceback": [
      "\u001b[0;31m---------------------------------------------------------------------------\u001b[0m",
      "\u001b[0;31mAttributeError\u001b[0m                            Traceback (most recent call last)",
      "Input \u001b[0;32mIn [1]\u001b[0m, in \u001b[0;36m<cell line: 16>\u001b[0;34m()\u001b[0m\n\u001b[1;32m     13\u001b[0m tess\u001b[38;5;241m.\u001b[39mright(\u001b[38;5;241m120\u001b[39m)\n\u001b[1;32m     14\u001b[0m tess\u001b[38;5;241m.\u001b[39mforward(\u001b[38;5;241m200\u001b[39m)\n\u001b[0;32m---> 16\u001b[0m \u001b[43mwn\u001b[49m\u001b[38;5;241;43m.\u001b[39;49m\u001b[43mdone\u001b[49m()\n\u001b[1;32m     17\u001b[0m tess\u001b[38;5;241m.\u001b[39mdone()\n",
      "\u001b[0;31mAttributeError\u001b[0m: '_Screen' object has no attribute 'done'"
     ]
    }
   ],
   "source": [
    "import turtle\n",
    "\n",
    "wn = turtle.Screen()\n",
    "wn.bgcolor(\"lightgreen\")\n",
    "\n",
    "wn.title(\"Hello, Tess!\")\n",
    "\n",
    "tess = turtle.Turtle()\n",
    "tess.color(\"hotpink\")\n",
    "tess.pensize(3)\n",
    "\n",
    "tess.forward(200)\n",
    "tess.right(120)\n",
    "tess.forward(200)\n",
    "\n",
    "wn.done()\n",
    "tess.done()"
   ]
  }
 ],
 "metadata": {
  "kernelspec": {
   "display_name": "Python 3 (ipykernel)",
   "language": "python",
   "name": "python3"
  },
  "language_info": {
   "codemirror_mode": {
    "name": "ipython",
    "version": 3
   },
   "file_extension": ".py",
   "mimetype": "text/x-python",
   "name": "python",
   "nbconvert_exporter": "python",
   "pygments_lexer": "ipython3",
   "version": "3.9.12"
  }
 },
 "nbformat": 4,
 "nbformat_minor": 5
}
