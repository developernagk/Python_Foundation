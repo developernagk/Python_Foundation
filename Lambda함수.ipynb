{
 "cells": [
  {
   "cell_type": "code",
   "execution_count": 1,
   "id": "8a6529d6",
   "metadata": {},
   "outputs": [
    {
     "data": {
      "text/plain": [
       "25.0"
      ]
     },
     "execution_count": 1,
     "metadata": {},
     "output_type": "execute_result"
    }
   ],
   "source": [
    "def calc(base, height) :\n",
    "    return base*height/2\n",
    "\n",
    "calc(5, 10)"
   ]
  },
  {
   "cell_type": "code",
   "execution_count": 2,
   "id": "91a43c8a",
   "metadata": {},
   "outputs": [
    {
     "data": {
      "text/plain": [
       "25.0"
      ]
     },
     "execution_count": 2,
     "metadata": {},
     "output_type": "execute_result"
    }
   ],
   "source": [
    "(lambda base, height: base*height/2)(5, 10)"
   ]
  },
  {
   "cell_type": "code",
   "execution_count": 3,
   "id": "ff883bf7",
   "metadata": {},
   "outputs": [],
   "source": [
    "func = lambda base, height: base*height/2"
   ]
  },
  {
   "cell_type": "code",
   "execution_count": 4,
   "id": "01d88c7f",
   "metadata": {},
   "outputs": [
    {
     "data": {
      "text/plain": [
       "25.0"
      ]
     },
     "execution_count": 4,
     "metadata": {},
     "output_type": "execute_result"
    }
   ],
   "source": [
    "func(5, 10)"
   ]
  },
  {
   "cell_type": "code",
   "execution_count": 5,
   "id": "08f8e387",
   "metadata": {},
   "outputs": [],
   "source": [
    "names = ['Jung', 'Kim', 'Park', 'Choi']"
   ]
  },
  {
   "cell_type": "code",
   "execution_count": 6,
   "id": "be5109ea",
   "metadata": {},
   "outputs": [
    {
     "data": {
      "text/plain": [
       "['JUNG', 'KIM', 'PARK', 'CHOI']"
      ]
     },
     "execution_count": 6,
     "metadata": {},
     "output_type": "execute_result"
    }
   ],
   "source": [
    "upper_case_names1 = []\n",
    "for name in names :\n",
    "    upper_case_names1.append(name.upper())\n",
    "    \n",
    "upper_case_names1"
   ]
  },
  {
   "cell_type": "code",
   "execution_count": 7,
   "id": "495761b7",
   "metadata": {},
   "outputs": [
    {
     "data": {
      "text/plain": [
       "['JUNG', 'KIM', 'PARK', 'CHOI']"
      ]
     },
     "execution_count": 7,
     "metadata": {},
     "output_type": "execute_result"
    }
   ],
   "source": [
    "upper_case_names2 = [name.upper() for name in names]\n",
    "upper_case_names2"
   ]
  },
  {
   "cell_type": "code",
   "execution_count": 8,
   "id": "020de428",
   "metadata": {},
   "outputs": [
    {
     "data": {
      "text/plain": [
       "['JUNG', 'KIM', 'PARK', 'CHOI']"
      ]
     },
     "execution_count": 8,
     "metadata": {},
     "output_type": "execute_result"
    }
   ],
   "source": [
    "upper_case_names3 = list(map(lambda name: name.upper(), names))\n",
    "upper_case_names3"
   ]
  }
 ],
 "metadata": {
  "kernelspec": {
   "display_name": "Python 3 (ipykernel)",
   "language": "python",
   "name": "python3"
  },
  "language_info": {
   "codemirror_mode": {
    "name": "ipython",
    "version": 3
   },
   "file_extension": ".py",
   "mimetype": "text/x-python",
   "name": "python",
   "nbconvert_exporter": "python",
   "pygments_lexer": "ipython3",
   "version": "3.9.12"
  }
 },
 "nbformat": 4,
 "nbformat_minor": 5
}
