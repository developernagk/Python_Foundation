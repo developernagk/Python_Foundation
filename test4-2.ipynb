{
 "cells": [
  {
   "cell_type": "code",
   "execution_count": 1,
   "id": "58221eb2",
   "metadata": {},
   "outputs": [
    {
     "name": "stdout",
     "output_type": "stream",
     "text": [
      "0\n",
      "1\n",
      "2\n",
      "3\n",
      "4\n",
      "5\n",
      "6\n",
      "7\n",
      "8\n",
      "9\n"
     ]
    }
   ],
   "source": [
    "# print 0~9(while문)\n",
    "\n",
    "i = 0\n",
    "\n",
    "while i < 10 :\n",
    "    print(i)\n",
    "    i = i + 1"
   ]
  },
  {
   "cell_type": "code",
   "execution_count": 2,
   "id": "453bdec4",
   "metadata": {},
   "outputs": [
    {
     "name": "stdout",
     "output_type": "stream",
     "text": [
      "0\n",
      "1\n",
      "2\n",
      "3\n",
      "4\n",
      "5\n",
      "6\n",
      "7\n",
      "8\n",
      "9\n"
     ]
    }
   ],
   "source": [
    "# print 0~9(for문)\n",
    "\n",
    "for i in range(10) :\n",
    "    print(i)"
   ]
  },
  {
   "cell_type": "code",
   "execution_count": 3,
   "id": "45b91e2c",
   "metadata": {},
   "outputs": [
    {
     "name": "stdout",
     "output_type": "stream",
     "text": [
      "0\n",
      "1\n",
      "2\n",
      "3\n",
      "4\n",
      "5\n",
      "6\n",
      "7\n",
      "8\n",
      "9\n",
      "exit value :  10\n"
     ]
    }
   ],
   "source": [
    "i = 0\n",
    "\n",
    "while i < 10 :\n",
    "    print(i)\n",
    "    i = i + 1\n",
    "    \n",
    "print(\"exit value : \", i) # 탈출했을 때의 값"
   ]
  },
  {
   "cell_type": "code",
   "execution_count": 4,
   "id": "c4e1e85a",
   "metadata": {},
   "outputs": [
    {
     "name": "stdout",
     "output_type": "stream",
     "text": [
      "60\n",
      "70\n",
      "80\n",
      "90\n",
      "100\n",
      "last value =  100\n"
     ]
    }
   ],
   "source": [
    "# while문 연습 1\n",
    "\n",
    "value = 50\n",
    "\n",
    "while value < 100 :\n",
    "    value = value + 10\n",
    "    print(value)\n",
    "    \n",
    "print(\"last value = \", value)"
   ]
  },
  {
   "cell_type": "code",
   "execution_count": 5,
   "id": "309e384a",
   "metadata": {},
   "outputs": [
    {
     "name": "stdout",
     "output_type": "stream",
     "text": [
      "95\n",
      "90\n",
      "85\n",
      "80\n",
      "75\n",
      "70\n",
      "65\n",
      "60\n",
      "55\n",
      "50\n",
      "45\n",
      "40\n",
      "35\n",
      "30\n",
      "25\n",
      "20\n",
      "15\n",
      "10\n",
      "5\n",
      "0\n",
      "last value =  0\n"
     ]
    }
   ],
   "source": [
    "# while문 연습 2\n",
    "\n",
    "value = 100\n",
    "\n",
    "while value > 0 :\n",
    "    value = value - 5\n",
    "    print(value)\n",
    "    \n",
    "print(\"last value = \", value)"
   ]
  },
  {
   "cell_type": "code",
   "execution_count": 6,
   "id": "07faeca6",
   "metadata": {},
   "outputs": [
    {
     "name": "stdout",
     "output_type": "stream",
     "text": [
      "\n",
      "^\n",
      "@@\n",
      "^^^\n",
      "@@@@\n",
      "^^^^^\n",
      "@@@@@@\n",
      "^^^^^^^\n",
      "@@@@@@@@\n",
      "^^^^^^^^^\n",
      "Final number =  9\n"
     ]
    }
   ],
   "source": [
    "for i in range(10) :\n",
    "    if i % 2 == 0 :\n",
    "        print(\"@\" * i)\n",
    "    else :\n",
    "        print(\"^\" * i)\n",
    "        \n",
    "print(\"Final number = \", i)"
   ]
  },
  {
   "cell_type": "code",
   "execution_count": 7,
   "id": "c00b2c75",
   "metadata": {},
   "outputs": [
    {
     "name": "stdout",
     "output_type": "stream",
     "text": [
      "Hello\n",
      "Hello\n",
      "Hello\n",
      "Hello\n",
      "Hello\n",
      "There\n"
     ]
    }
   ],
   "source": [
    "# for문 연습하기 1('Hello'를 5번, 'There'를 1번 출력)\n",
    "\n",
    "for i in range(5) :\n",
    "    print(\"Hello\")\n",
    "    \n",
    "print(\"There\")"
   ]
  },
  {
   "cell_type": "code",
   "execution_count": 8,
   "id": "cec58446",
   "metadata": {},
   "outputs": [
    {
     "name": "stdout",
     "output_type": "stream",
     "text": [
      "Hello\n",
      "There\n",
      "Hello\n",
      "There\n",
      "Hello\n",
      "There\n",
      "Hello\n",
      "There\n",
      "Hello\n",
      "There\n"
     ]
    }
   ],
   "source": [
    "# for문 연습하기 2('Hello', 'There'를 둘 다 5번 출력)\n",
    "\n",
    "for i in range(5) :\n",
    "    print(\"Hello\")\n",
    "    print(\"There\")"
   ]
  },
  {
   "cell_type": "code",
   "execution_count": null,
   "id": "e6d26b0e",
   "metadata": {},
   "outputs": [],
   "source": [
    "# 오류찾기(실행 X)\n",
    "\n",
    "## 1\n",
    "i = 1\n",
    "while i > 1 : # 반복문 자체가 실행이 안 되는 구조\n",
    "    print(i)\n",
    "    i = i + 1\n",
    "    \n",
    "print(\"last i = \", i)\n",
    "\n",
    "## 2\n",
    "i = 1\n",
    "while i < 10 :\n",
    "    print(i)\n",
    "    i = i - 1 # 반복문을 멈출 수 없기에 무한 루프\n",
    "    \n",
    "print(\"last i = \", i)\n",
    "\n",
    "## 3\n",
    "for i in range(1, 10, 3) # :가 없음\n",
    "    print(i)\n",
    "    print(i ** 2) # 1일 때, 1+3 = 4일 때, 4+3 = 7일 때, 총 3번 출력됨(10보다 작아야 함)"
   ]
  },
  {
   "cell_type": "code",
   "execution_count": 9,
   "id": "d70e5709",
   "metadata": {},
   "outputs": [
    {
     "name": "stdout",
     "output_type": "stream",
     "text": [
      "i =  1\n",
      "n =  2\n",
      "i =  2\n",
      "n =  4\n",
      "i =  3\n",
      "n =  6\n",
      "i =  4\n",
      "n =  8\n",
      "i =  5\n",
      "n =  10\n",
      "i =  6\n",
      "n =  12\n",
      "i =  7\n",
      "n =  14\n",
      "i =  8\n",
      "n =  16\n",
      "i =  9\n",
      "n =  18\n",
      "i =  10\n",
      "n =  20\n"
     ]
    }
   ],
   "source": [
    "# 연습문제 1\n",
    "\n",
    "i = 0\n",
    "j = 10\n",
    "n = 0\n",
    "\n",
    "while i < j :\n",
    "    i = i + 1\n",
    "    n = n + 2\n",
    "    \n",
    "    print(\"i = \", i)\n",
    "    print(\"n = \", n)"
   ]
  },
  {
   "cell_type": "code",
   "execution_count": 11,
   "id": "3749b39b",
   "metadata": {},
   "outputs": [
    {
     "name": "stdout",
     "output_type": "stream",
     "text": [
      "i =  10\n",
      "i ** 2 =  100\n",
      "i =  1\n",
      "i ** 2 =  1\n",
      "i =  5\n",
      "i ** 2 =  25\n",
      "i =  9\n",
      "i ** 2 =  81\n",
      "i =  21\n",
      "i ** 2 =  441\n",
      "i =  53\n",
      "i ** 2 =  2809\n"
     ]
    }
   ],
   "source": [
    "# 연습문제 2\n",
    "\n",
    "for i in [10, 1, 5, 9, 21, 53] :\n",
    "    print(\"i = \", i)\n",
    "    print(\"i ** 2 = \", i ** 2)"
   ]
  }
 ],
 "metadata": {
  "kernelspec": {
   "display_name": "Python 3 (ipykernel)",
   "language": "python",
   "name": "python3"
  },
  "language_info": {
   "codemirror_mode": {
    "name": "ipython",
    "version": 3
   },
   "file_extension": ".py",
   "mimetype": "text/x-python",
   "name": "python",
   "nbconvert_exporter": "python",
   "pygments_lexer": "ipython3",
   "version": "3.9.12"
  }
 },
 "nbformat": 4,
 "nbformat_minor": 5
}
