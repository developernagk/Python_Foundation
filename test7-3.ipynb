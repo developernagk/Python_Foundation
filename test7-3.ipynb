{
 "cells": [
  {
   "cell_type": "code",
   "execution_count": 1,
   "id": "06e07d8d",
   "metadata": {},
   "outputs": [
    {
     "data": {
      "text/plain": [
       "['a', 'p', 'p', 'l', 'e']"
      ]
     },
     "execution_count": 1,
     "metadata": {},
     "output_type": "execute_result"
    }
   ],
   "source": [
    "# 문자열을 한 글자씩 나누어서 리스트로 만드는 함수 list\n",
    "\n",
    "s = 'apple'\n",
    "t = list(s)\n",
    "t"
   ]
  },
  {
   "cell_type": "code",
   "execution_count": 2,
   "id": "a8980db5",
   "metadata": {},
   "outputs": [
    {
     "data": {
      "text/plain": [
       "['every', 'morning', 'you', 'greet', 'to', 'me']"
      ]
     },
     "execution_count": 2,
     "metadata": {},
     "output_type": "execute_result"
    }
   ],
   "source": [
    "# 문자열을 단어 단위로 리스트를 만드는 .split\n",
    "\n",
    "s = 'every morning you greet to me'\n",
    "t = s.split()\n",
    "t"
   ]
  },
  {
   "cell_type": "code",
   "execution_count": 3,
   "id": "8561cb48",
   "metadata": {},
   "outputs": [
    {
     "data": {
      "text/plain": [
       "['apple', 'tree', 'beans']"
      ]
     },
     "execution_count": 3,
     "metadata": {},
     "output_type": "execute_result"
    }
   ],
   "source": [
    "# 문자열을 단어 단위로 리스트를 만드는 .split\n",
    "\n",
    "s = 'apple-tree-beans'\n",
    "delimiter = '-' # 공백 없이 '-'로 구분되어 있는 경우 따로 지정해준 후 .split()\n",
    "s.split(delimiter)"
   ]
  },
  {
   "cell_type": "code",
   "execution_count": 4,
   "id": "da1695a8",
   "metadata": {},
   "outputs": [
    {
     "data": {
      "text/plain": [
       "'every morning you greet to me'"
      ]
     },
     "execution_count": 4,
     "metadata": {},
     "output_type": "execute_result"
    }
   ],
   "source": [
    "# 리스트를 문자열로 만드는 .join\n",
    "\n",
    "t = ['every', 'morning', 'you', 'greet', 'to', 'me']\n",
    "\n",
    "delimiter = ' '\n",
    "delimiter.join(t)"
   ]
  },
  {
   "cell_type": "code",
   "execution_count": 5,
   "id": "2423ff23",
   "metadata": {},
   "outputs": [
    {
     "data": {
      "text/plain": [
       "'every+morning+you+greet+to+me'"
      ]
     },
     "execution_count": 5,
     "metadata": {},
     "output_type": "execute_result"
    }
   ],
   "source": [
    "delimiter = '+'\n",
    "delimiter.join(t)"
   ]
  },
  {
   "cell_type": "code",
   "execution_count": 6,
   "id": "3efa0d07",
   "metadata": {},
   "outputs": [],
   "source": [
    "# 연습문제1\n",
    "# 문자열을 입력 받음\n",
    "# 문자열을 분리하여 리스트에 저장\n",
    "# 그 중 제거할 단어를 입력 받아 제거\n",
    "# 추가할 단어를 입력 받아 추가\n",
    "# 리스트를 다시 문자열로 바꾼 뒤 출력"
   ]
  },
  {
   "cell_type": "code",
   "execution_count": null,
   "id": "e7517cb1",
   "metadata": {},
   "outputs": [],
   "source": [
    "# Shallow Copy\n",
    "\n",
    "c1 = [2, 4, 6, 8, 10]\n",
    "c2 = c1\n",
    "\n",
    "# Deep Cpoy\n",
    "\n",
    "c2 = deepcopy(c1)"
   ]
  },
  {
   "cell_type": "code",
   "execution_count": 7,
   "id": "8a3c0387",
   "metadata": {},
   "outputs": [
    {
     "data": {
      "text/plain": [
       "['red', 'green']"
      ]
     },
     "execution_count": 7,
     "metadata": {},
     "output_type": "execute_result"
    }
   ],
   "source": [
    "# Shallow Copy 예제\n",
    "\n",
    "c1 = [\"red\", \"green\"]\n",
    "c2 = c1\n",
    "c1"
   ]
  },
  {
   "cell_type": "code",
   "execution_count": 8,
   "id": "1180c2ca",
   "metadata": {},
   "outputs": [
    {
     "data": {
      "text/plain": [
       "['red', 'green']"
      ]
     },
     "execution_count": 8,
     "metadata": {},
     "output_type": "execute_result"
    }
   ],
   "source": [
    "c2"
   ]
  },
  {
   "cell_type": "code",
   "execution_count": 9,
   "id": "f390653b",
   "metadata": {},
   "outputs": [
    {
     "name": "stdout",
     "output_type": "stream",
     "text": [
      "140677120985792 140677120985792\n"
     ]
    }
   ],
   "source": [
    "print(id(c1), id(c2))"
   ]
  },
  {
   "cell_type": "code",
   "execution_count": 10,
   "id": "7eb9665d",
   "metadata": {},
   "outputs": [
    {
     "name": "stdout",
     "output_type": "stream",
     "text": [
      "140677120935360 140677120669184\n"
     ]
    }
   ],
   "source": [
    "c1 = [\"red\", \"green\"]\n",
    "c2 = [\"blue\", \"orange\"]\n",
    "\n",
    "print(id(c1), id(c2))"
   ]
  },
  {
   "cell_type": "code",
   "execution_count": 11,
   "id": "618fa3e4",
   "metadata": {},
   "outputs": [
    {
     "data": {
      "text/plain": [
       "['red', 'green']"
      ]
     },
     "execution_count": 11,
     "metadata": {},
     "output_type": "execute_result"
    }
   ],
   "source": [
    "# Deep Copy 예제\n",
    "\n",
    "from copy import*\n",
    "\n",
    "c1 = [\"red\", \"green\"]\n",
    "c2 = deepcopy(c1)\n",
    "c1"
   ]
  },
  {
   "cell_type": "code",
   "execution_count": 12,
   "id": "472f3f16",
   "metadata": {},
   "outputs": [
    {
     "data": {
      "text/plain": [
       "['red', 'green']"
      ]
     },
     "execution_count": 12,
     "metadata": {},
     "output_type": "execute_result"
    }
   ],
   "source": [
    "c2"
   ]
  },
  {
   "cell_type": "code",
   "execution_count": 13,
   "id": "553f41de",
   "metadata": {},
   "outputs": [
    {
     "name": "stdout",
     "output_type": "stream",
     "text": [
      "140677120926656 140677120998720\n"
     ]
    }
   ],
   "source": [
    "print(id(c1), id(c2))"
   ]
  },
  {
   "cell_type": "code",
   "execution_count": 14,
   "id": "1c912054",
   "metadata": {},
   "outputs": [
    {
     "name": "stdout",
     "output_type": "stream",
     "text": [
      "you want to stop, input 'zzz'!!\n",
      "write your favorite fruit : apple\n",
      "write your favorite fruit : banana\n",
      "write your favorite fruit : cherry\n",
      "write your favorite fruit : melon\n",
      "write your favorite fruit : lemon\n",
      "write your favorite fruit : zzz\n",
      "list f :  ['apple', 'banana', 'cherry', 'melon', 'lemon'] count of f :  5\n"
     ]
    }
   ],
   "source": [
    "# 연습문제2\n",
    "# 유저 입력 값이 'zzz'가 나올 때까지 유저로부터 과일을 입력받음\n",
    "# 과일 이름을 목록으로 생성\n",
    "# 과일의 이름과 개수를 출력\n",
    "\n",
    "fruit = [ ]\n",
    "print(\"you want to stop, input 'zzz'!!\")\n",
    "\n",
    "while True :\n",
    "    f = input(\"write your favorite fruit : \")\n",
    "    if f == 'zzz' :\n",
    "        break\n",
    "    else :\n",
    "        fruit.append(f)\n",
    "        \n",
    "print(\"list f : \", fruit, \"count of f : \", len(fruit))"
   ]
  },
  {
   "cell_type": "code",
   "execution_count": 18,
   "id": "3daa61b2",
   "metadata": {},
   "outputs": [
    {
     "name": "stdout",
     "output_type": "stream",
     "text": [
      "List01 :  ['apple', 'banana', 'quiz', 'hi', 'bye']\n",
      "List02 :  ['Korea', 'LOL', 'Python']\n",
      "합친 후 :  ['apple', 'banana', 'quiz', 'hi', 'bye', 'Korea', 'LOL', 'Python']\n",
      "정렬 후 :  ['Korea', 'LOL', 'Python', 'apple', 'banana', 'bye', 'hi', 'quiz']\n"
     ]
    }
   ],
   "source": [
    "# 연습문제3\n",
    "# 두 개의 list를 생성\n",
    "# 중복되는 아이템을 제거\n",
    "# 두 개의 list를 합쳐 출력\n",
    "\n",
    "List01 = ['apple', 'banana', 'quiz', 'hi', 'bye']\n",
    "List01_modified = List01\n",
    "List02 = ['Korea', 'hi', 'LOL', 'Python', 'apple']\n",
    "\n",
    "for i in range(len(List01)) :\n",
    "    if List01[i] in List02 :\n",
    "        List02.remove(List01[i])\n",
    "    \n",
    "List03 = List01 + List02\n",
    "print(\"List01 : \", List01)\n",
    "print(\"List02 : \", List02)\n",
    "print(\"합친 후 : \", List03)\n",
    "\n",
    "List03.sort()\n",
    "print(\"정렬 후 : \", List03)"
   ]
  },
  {
   "cell_type": "code",
   "execution_count": 19,
   "id": "4f11b3a7",
   "metadata": {},
   "outputs": [
    {
     "name": "stdout",
     "output_type": "stream",
     "text": [
      "numList =  [1, 3, 5, 7, 9]\n",
      "numshallow =  [1, 3, 5, 7, 9]\n",
      "numdeep =  [1, 3, 5, 7, 9]\n",
      "after appending ====================\n",
      "numList =  [1, 3, 5, 7, 9, 99]\n",
      "numshallow =  [1, 3, 5, 7, 9, 99]\n",
      "numdeep =  [1, 3, 5, 7, 9, 111]\n"
     ]
    }
   ],
   "source": [
    "# 연습문제4\n",
    "# deepcopy 연습\n",
    "\n",
    "from copy import*\n",
    "\n",
    "numList = [1, 3, 5, 7, 9]\n",
    "numshallow = numList\n",
    "numdeep = deepcopy(numList)\n",
    "\n",
    "print(\"numList = \", numList)\n",
    "print(\"numshallow = \", numshallow)\n",
    "print(\"numdeep = \", numdeep)\n",
    "\n",
    "numshallow.append(99)\n",
    "numdeep.append(111)\n",
    "\n",
    "print(\"after appending\", \"=\" * 20)\n",
    "print(\"numList = \", numList)\n",
    "print(\"numshallow = \", numshallow)\n",
    "print(\"numdeep = \", numdeep)"
   ]
  }
 ],
 "metadata": {
  "kernelspec": {
   "display_name": "Python 3 (ipykernel)",
   "language": "python",
   "name": "python3"
  },
  "language_info": {
   "codemirror_mode": {
    "name": "ipython",
    "version": 3
   },
   "file_extension": ".py",
   "mimetype": "text/x-python",
   "name": "python",
   "nbconvert_exporter": "python",
   "pygments_lexer": "ipython3",
   "version": "3.9.12"
  }
 },
 "nbformat": 4,
 "nbformat_minor": 5
}
