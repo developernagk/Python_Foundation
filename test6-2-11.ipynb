{
 "cells": [
  {
   "cell_type": "code",
   "execution_count": 1,
   "id": "2f414a94",
   "metadata": {},
   "outputs": [],
   "source": [
    "import turtle\n",
    "\n",
    "def square(t, size, color) :\n",
    "    t.color(color)\n",
    "    for i in range(4) :\n",
    "        t.forward(size)\n",
    "        t.right(90)\n",
    "        \n",
    "t1 = turtle.Turtle()\n",
    "t1.pensize(5)\n",
    "colors = [\"red\", \"orange\", \"yellow\", \"green\", \"blue\", \"violet\", \"darkgreen\", \"hotpink\", \"grey\", \"black\"]\n",
    "\n",
    "i = 25\n",
    "for color in colors :\n",
    "    square(t1, i ,color)\n",
    "    i = i + 25"
   ]
  }
 ],
 "metadata": {
  "kernelspec": {
   "display_name": "Python 3 (ipykernel)",
   "language": "python",
   "name": "python3"
  },
  "language_info": {
   "codemirror_mode": {
    "name": "ipython",
    "version": 3
   },
   "file_extension": ".py",
   "mimetype": "text/x-python",
   "name": "python",
   "nbconvert_exporter": "python",
   "pygments_lexer": "ipython3",
   "version": "3.9.12"
  }
 },
 "nbformat": 4,
 "nbformat_minor": 5
}
