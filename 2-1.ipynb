{
 "cells": [
  {
   "cell_type": "code",
   "execution_count": 1,
   "id": "b824dd27",
   "metadata": {},
   "outputs": [
    {
     "name": "stdout",
     "output_type": "stream",
     "text": [
      "100\n"
     ]
    }
   ],
   "source": [
    "fred = 100\n",
    "print(fred)"
   ]
  },
  {
   "cell_type": "code",
   "execution_count": 2,
   "id": "5fb46918",
   "metadata": {},
   "outputs": [
    {
     "name": "stdout",
     "output_type": "stream",
     "text": [
      "fred\n"
     ]
    }
   ],
   "source": [
    "print('fred')"
   ]
  },
  {
   "cell_type": "code",
   "execution_count": 3,
   "id": "ccef41eb",
   "metadata": {},
   "outputs": [
    {
     "data": {
      "text/plain": [
       "1500"
      ]
     },
     "execution_count": 3,
     "metadata": {},
     "output_type": "execute_result"
    }
   ],
   "source": [
    "value = 100\n",
    "num_coins = 15\n",
    "num_coins * value"
   ]
  },
  {
   "cell_type": "code",
   "execution_count": 4,
   "id": "bc82e754",
   "metadata": {},
   "outputs": [
    {
     "data": {
      "text/plain": [
       "1500"
      ]
     },
     "execution_count": 4,
     "metadata": {},
     "output_type": "execute_result"
    }
   ],
   "source": [
    "15 * value"
   ]
  },
  {
   "cell_type": "code",
   "execution_count": 5,
   "id": "58e4caeb",
   "metadata": {},
   "outputs": [
    {
     "name": "stdout",
     "output_type": "stream",
     "text": [
      "John\n"
     ]
    }
   ],
   "source": [
    "message = \"John\"\n",
    "print(message)"
   ]
  },
  {
   "cell_type": "code",
   "execution_count": 6,
   "id": "4bd41a3e",
   "metadata": {},
   "outputs": [
    {
     "name": "stdout",
     "output_type": "stream",
     "text": [
      "Hello! John\n"
     ]
    }
   ],
   "source": [
    "print(\"Hello!\", \"John\")"
   ]
  },
  {
   "cell_type": "code",
   "execution_count": 7,
   "id": "32d3dac6",
   "metadata": {},
   "outputs": [
    {
     "name": "stdout",
     "output_type": "stream",
     "text": [
      "Hello! John\n"
     ]
    }
   ],
   "source": [
    "print(\"Hello!\", message)"
   ]
  },
  {
   "cell_type": "code",
   "execution_count": 8,
   "id": "493ac3c8",
   "metadata": {},
   "outputs": [
    {
     "name": "stdout",
     "output_type": "stream",
     "text": [
      "John 78\n"
     ]
    }
   ],
   "source": [
    "score = 78\n",
    "print(message, score)"
   ]
  },
  {
   "cell_type": "code",
   "execution_count": 9,
   "id": "c2e73d7d",
   "metadata": {},
   "outputs": [
    {
     "name": "stdout",
     "output_type": "stream",
     "text": [
      "message score\n"
     ]
    }
   ],
   "source": [
    "print(\"message\", \"score\")"
   ]
  },
  {
   "cell_type": "code",
   "execution_count": 10,
   "id": "664a3831",
   "metadata": {},
   "outputs": [
    {
     "name": "stdout",
     "output_type": "stream",
     "text": [
      "abbaabbaabba\n"
     ]
    }
   ],
   "source": [
    "print(\"abba\" * 3)"
   ]
  },
  {
   "cell_type": "code",
   "execution_count": 11,
   "id": "54a7b3b6",
   "metadata": {},
   "outputs": [
    {
     "data": {
      "text/plain": [
       "500"
      ]
     },
     "execution_count": 11,
     "metadata": {},
     "output_type": "execute_result"
    }
   ],
   "source": [
    "price = 125\n",
    "price * 4"
   ]
  },
  {
   "cell_type": "code",
   "execution_count": 12,
   "id": "60073e4b",
   "metadata": {},
   "outputs": [
    {
     "name": "stdout",
     "output_type": "stream",
     "text": [
      "150\n"
     ]
    }
   ],
   "source": [
    "price = price + 25\n",
    "print(price)"
   ]
  },
  {
   "cell_type": "code",
   "execution_count": 13,
   "id": "2d4ada15",
   "metadata": {},
   "outputs": [
    {
     "name": "stdout",
     "output_type": "stream",
     "text": [
      "1500\n"
     ]
    }
   ],
   "source": [
    "print(price * 10)"
   ]
  },
  {
   "cell_type": "code",
   "execution_count": 14,
   "id": "5134480a",
   "metadata": {},
   "outputs": [
    {
     "name": "stdout",
     "output_type": "stream",
     "text": [
      "가격을 입력하세요 : 125\n"
     ]
    },
    {
     "data": {
      "text/plain": [
       "'125125125125'"
      ]
     },
     "execution_count": 14,
     "metadata": {},
     "output_type": "execute_result"
    }
   ],
   "source": [
    "price = input(\"가격을 입력하세요 : \") # input value = 125\n",
    "price * 4"
   ]
  },
  {
   "cell_type": "code",
   "execution_count": 15,
   "id": "431563e6",
   "metadata": {},
   "outputs": [
    {
     "name": "stdout",
     "output_type": "stream",
     "text": [
      "125\n"
     ]
    }
   ],
   "source": [
    "price = int(price)\n",
    "print(price)"
   ]
  },
  {
   "cell_type": "code",
   "execution_count": 36,
   "id": "664f9f24",
   "metadata": {},
   "outputs": [
    {
     "data": {
      "text/plain": [
       "500"
      ]
     },
     "execution_count": 36,
     "metadata": {},
     "output_type": "execute_result"
    }
   ],
   "source": [
    "price * 4"
   ]
  },
  {
   "cell_type": "code",
   "execution_count": 16,
   "id": "25756796",
   "metadata": {},
   "outputs": [
    {
     "data": {
      "text/plain": [
       "122.0"
      ]
     },
     "execution_count": 16,
     "metadata": {},
     "output_type": "execute_result"
    }
   ],
   "source": [
    "price = 30.5\n",
    "price * 4"
   ]
  },
  {
   "cell_type": "code",
   "execution_count": 17,
   "id": "428d0fd7",
   "metadata": {},
   "outputs": [
    {
     "name": "stdout",
     "output_type": "stream",
     "text": [
      "50.5\n"
     ]
    }
   ],
   "source": [
    "price = price + 20\n",
    "print(price)"
   ]
  },
  {
   "cell_type": "code",
   "execution_count": 18,
   "id": "8ed1f030",
   "metadata": {},
   "outputs": [
    {
     "name": "stdout",
     "output_type": "stream",
     "text": [
      "가격을 입력하세요 : 30.5\n"
     ]
    },
    {
     "data": {
      "text/plain": [
       "'30.530.530.530.5'"
      ]
     },
     "execution_count": 18,
     "metadata": {},
     "output_type": "execute_result"
    }
   ],
   "source": [
    "price = input(\"가격을 입력하세요 : \") # input value = 30.5\n",
    "price * 4"
   ]
  },
  {
   "cell_type": "code",
   "execution_count": 19,
   "id": "5294703d",
   "metadata": {},
   "outputs": [
    {
     "name": "stdout",
     "output_type": "stream",
     "text": [
      "30.5\n"
     ]
    }
   ],
   "source": [
    "price = float(price)\n",
    "print(price)"
   ]
  },
  {
   "cell_type": "code",
   "execution_count": 20,
   "id": "c74763c9",
   "metadata": {},
   "outputs": [
    {
     "data": {
      "text/plain": [
       "122.0"
      ]
     },
     "execution_count": 20,
     "metadata": {},
     "output_type": "execute_result"
    }
   ],
   "source": [
    "price * 4"
   ]
  },
  {
   "cell_type": "code",
   "execution_count": 21,
   "id": "287fb2ae",
   "metadata": {},
   "outputs": [
    {
     "data": {
      "text/plain": [
       "'The Brave'"
      ]
     },
     "execution_count": 21,
     "metadata": {},
     "output_type": "execute_result"
    }
   ],
   "source": [
    "s1 = 'The Brave'\n",
    "s1"
   ]
  },
  {
   "cell_type": "code",
   "execution_count": 22,
   "id": "ed21aa13",
   "metadata": {},
   "outputs": [
    {
     "data": {
      "text/plain": [
       "'The Brave gets The Beauty'"
      ]
     },
     "execution_count": 22,
     "metadata": {},
     "output_type": "execute_result"
    }
   ],
   "source": [
    "s2 = 'The Beauty'\n",
    "s3 = s1 + ' gets ' + s2\n",
    "s3"
   ]
  },
  {
   "cell_type": "code",
   "execution_count": 23,
   "id": "94a92aa7",
   "metadata": {},
   "outputs": [
    {
     "data": {
      "text/plain": [
       "'Brave'"
      ]
     },
     "execution_count": 23,
     "metadata": {},
     "output_type": "execute_result"
    }
   ],
   "source": [
    "s3[4 : 9]"
   ]
  }
 ],
 "metadata": {
  "kernelspec": {
   "display_name": "Python 3 (ipykernel)",
   "language": "python",
   "name": "python3"
  },
  "language_info": {
   "codemirror_mode": {
    "name": "ipython",
    "version": 3
   },
   "file_extension": ".py",
   "mimetype": "text/x-python",
   "name": "python",
   "nbconvert_exporter": "python",
   "pygments_lexer": "ipython3",
   "version": "3.9.12"
  }
 },
 "nbformat": 4,
 "nbformat_minor": 5
}
