{
 "cells": [
  {
   "cell_type": "code",
   "execution_count": 1,
   "id": "1b87a0fd",
   "metadata": {},
   "outputs": [],
   "source": [
    "import turtle\n",
    "\n",
    "wn = turtle.Screen()\n",
    "wn.bgcolor(\"lightpink\")\n",
    "\n",
    "a = turtle.Turtle()\n",
    "a.color(\"grey\")\n",
    "a.pensize(5)\n",
    "\n",
    "for i in range(20, 110, 20) :\n",
    "    a.penup()\n",
    "    a.goto(i, i)\n",
    "    a.pendown()\n",
    "    for j in range(4) :\n",
    "        a.forward(120)\n",
    "        a.left(90)"
   ]
  }
 ],
 "metadata": {
  "kernelspec": {
   "display_name": "Python 3 (ipykernel)",
   "language": "python",
   "name": "python3"
  },
  "language_info": {
   "codemirror_mode": {
    "name": "ipython",
    "version": 3
   },
   "file_extension": ".py",
   "mimetype": "text/x-python",
   "name": "python",
   "nbconvert_exporter": "python",
   "pygments_lexer": "ipython3",
   "version": "3.9.12"
  }
 },
 "nbformat": 4,
 "nbformat_minor": 5
}
