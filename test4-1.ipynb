{
 "cells": [
  {
   "cell_type": "code",
   "execution_count": 2,
   "id": "71bf6ec4",
   "metadata": {},
   "outputs": [
    {
     "name": "stdout",
     "output_type": "stream",
     "text": [
      "a is less than b and c\n",
      "a is less than either b or c(or both)\n",
      "a is true\n"
     ]
    }
   ],
   "source": [
    "# Boolean data type 활용\n",
    "\n",
    "a = 1\n",
    "b = 2\n",
    "c = 3\n",
    "\n",
    "# And\n",
    "if a < b and a < c :\n",
    "    print(\"a is less than b and c\")\n",
    "    \n",
    "# Non-exclusive or\n",
    "if a < b or a < c :\n",
    "    print(\"a is less than either b or c(or both)\")\n",
    "    \n",
    "# Boolean data type. This is legal!\n",
    "a = True\n",
    "\n",
    "if a :\n",
    "    print(\"a is true\")\n",
    "else :\n",
    "    print(\"a is false\")"
   ]
  },
  {
   "cell_type": "code",
   "execution_count": 5,
   "id": "8d552ca8",
   "metadata": {},
   "outputs": [
    {
     "name": "stdout",
     "output_type": "stream",
     "text": [
      "생년월일을 입력하세요 ; 20010907\n",
      "당신의 나이는 20 입니다.\n"
     ]
    }
   ],
   "source": [
    "# 입력된 월 확인하기\n",
    "\n",
    "Birthdate = input(\"생년월일을 입력하세요 ; \")\n",
    "\n",
    "Year = Birthdate[0 : 4]\n",
    "Month = Birthdate[4 : 6]\n",
    "Day = Birthdate[6 : ]\n",
    "\n",
    "if Month < \"01\" or Month > \"12\" :\n",
    "    print(\"월이 잘못 입력되었습니다. 다시 실행해 주세요.\")\n",
    "    \n",
    "if Birthdate > \"20220701\" :\n",
    "    print(\"나이를 계산할 수 없습니다.\")\n",
    "else :\n",
    "    age = 2022 - int(Year)\n",
    "    \n",
    "    if Month > \"07\" :\n",
    "        age = age - 1\n",
    "        \n",
    "    print(\"당신의 나이는\", age, \"입니다.\")"
   ]
  },
  {
   "cell_type": "code",
   "execution_count": 6,
   "id": "6abd93dd",
   "metadata": {},
   "outputs": [
    {
     "name": "stdout",
     "output_type": "stream",
     "text": [
      "국어점수를 입력하세요 ; 90\n",
      "영어점수를 입력하세요 ; 70\n",
      "수학점수를 입력하세요 ; 50\n",
      "역사점수를 입력하세요 ; 30\n",
      "과락입니다.\n"
     ]
    }
   ],
   "source": [
    "# 과락 확인, or\n",
    "\n",
    "Korean = int(input(\"국어점수를 입력하세요 ; \"))\n",
    "English = int(input(\"영어점수를 입력하세요 ; \"))\n",
    "Math = int(input(\"수학점수를 입력하세요 ; \"))\n",
    "History = int(input(\"역사점수를 입력하세요 ; \"))\n",
    "\n",
    "if Korean < 50 or English < 50 or Math < 50 or History < 50 :\n",
    "    print(\"과락입니다.\")"
   ]
  },
  {
   "cell_type": "code",
   "execution_count": 7,
   "id": "86e36b0c",
   "metadata": {},
   "outputs": [
    {
     "name": "stdout",
     "output_type": "stream",
     "text": [
      "국어점수를 입력하세요 ; 60\n",
      "영어점수를 입력하세요 ; 60\n",
      "수학점수를 입력하세요 ; 60\n",
      "역사점수를 입력하세요 ; 60\n",
      "합격입니다.\n"
     ]
    }
   ],
   "source": [
    "# 합격 확인, and\n",
    "\n",
    "Korean = int(input(\"국어점수를 입력하세요 ; \"))\n",
    "English = int(input(\"영어점수를 입력하세요 ; \"))\n",
    "Math = int(input(\"수학점수를 입력하세요 ; \"))\n",
    "History = int(input(\"역사점수를 입력하세요 ; \"))\n",
    "\n",
    "Mean  = (Korean + English + Math + History) / 4\n",
    "\n",
    "if Korean >= 50 and English >= 50 and Math >= 50 and History >= 50 and Mean >= 60 :\n",
    "    print(\"합격입니다.\")"
   ]
  },
  {
   "cell_type": "code",
   "execution_count": null,
   "id": "e9689d5b",
   "metadata": {},
   "outputs": [],
   "source": [
    "# 오류찾기(실행 X)\n",
    "\n",
    "## 1\n",
    "if num > 0 then # then 대신 :가 와야함\n",
    "    print(num)\n",
    "    \n",
    "## 2\n",
    "if num > 0 :\n",
    "    print(num)\n",
    "else # :가 있어야 함\n",
    "    print(num + 10)\n",
    "    \n",
    "## 3\n",
    "if num = 10 : # =가 두개 있어야 함\n",
    "    num = 1\n",
    "    \n",
    "## 4\n",
    "num = input(\"정수를 입력하세요 ; \") # 입력받은 값을 변환해주어야 함\n",
    "#num = int(num)\n",
    "s = num ** 2\n",
    "\n",
    "## 5\n",
    "grade = \"F\"\n",
    "\n",
    "if score >= 90 :\n",
    "    grade = \"A\"\n",
    "    \n",
    "if score >= 80 : # elif\n",
    "    grade = \"B\"\n",
    "    \n",
    "if score >= 70 : # elif\n",
    "    grade = \"C\"\n",
    "    \n",
    "if score > 60 : # else\n",
    "    grade = \"D\""
   ]
  },
  {
   "cell_type": "code",
   "execution_count": 8,
   "id": "ca049925",
   "metadata": {},
   "outputs": [
    {
     "name": "stdout",
     "output_type": "stream",
     "text": [
      "-1\n"
     ]
    }
   ],
   "source": [
    "# 연습문제 1\n",
    "\n",
    "n = 1\n",
    "m = -1\n",
    "\n",
    "if n < -m :\n",
    "    print(n)\n",
    "else :\n",
    "    print(m)"
   ]
  },
  {
   "cell_type": "code",
   "execution_count": 9,
   "id": "92a9876e",
   "metadata": {},
   "outputs": [
    {
     "name": "stdout",
     "output_type": "stream",
     "text": [
      "1\n"
     ]
    }
   ],
   "source": [
    "# 연습문제 2\n",
    "\n",
    "n = 1\n",
    "m = -1\n",
    "l = 0\n",
    "\n",
    "if n <= -m and m < l :\n",
    "    print(n)\n",
    "elif m >= l :\n",
    "    print(m)\n",
    "else :\n",
    "    print(l)"
   ]
  },
  {
   "cell_type": "code",
   "execution_count": 10,
   "id": "17a1f2da",
   "metadata": {},
   "outputs": [
    {
     "name": "stdout",
     "output_type": "stream",
     "text": [
      "s1 :  ab\n",
      "s1 :  ab\n",
      "s2 :  abc\n"
     ]
    }
   ],
   "source": [
    "# 연습문제 3\n",
    "\n",
    "s1 = \"ab\"\n",
    "s2 = \"abc\"\n",
    "s3 = \"bc\"\n",
    "\n",
    "if s1 < s2 :\n",
    "    print(\"s1 : \", s1)\n",
    "    \n",
    "if s1 < s3 :\n",
    "    print(\"s1 : \", s1)\n",
    "    \n",
    "if s2 < s3 :\n",
    "    print(\"s2 : \", s2)"
   ]
  },
  {
   "cell_type": "code",
   "execution_count": 13,
   "id": "b71cd58b",
   "metadata": {},
   "outputs": [
    {
     "name": "stdout",
     "output_type": "stream",
     "text": [
      "국어성적 ; 20\n",
      "영어성적 ; 20\n",
      "수학성적 ; 20\n",
      "과락\n"
     ]
    }
   ],
   "source": [
    "# 과락과 합격여부 확인\n",
    "\n",
    "Korean = int(input(\"국어성적 ; \"))\n",
    "English = int(input(\"영어성적 ; \"))\n",
    "Math = int(input(\"수학성적 ; \"))\n",
    "\n",
    "Mean = (Korean + English + Math) / 3\n",
    "\n",
    "if Korean < 50 or English < 50 or Math < 50 :\n",
    "    print(\"과락\")\n",
    "elif Mean >= 60 :\n",
    "    print(\"합격\")\n",
    "else :\n",
    "    print(\"불합격\")"
   ]
  },
  {
   "cell_type": "code",
   "execution_count": 14,
   "id": "7783b644",
   "metadata": {},
   "outputs": [
    {
     "name": "stdout",
     "output_type": "stream",
     "text": [
      "월을 입력하세요 ; 09\n",
      "30일 까지\n"
     ]
    }
   ],
   "source": [
    "# 해당 월의 마지막 날 숫자 출력\n",
    "\n",
    "mon = int(input(\"월을 입력하세요 ; \"))\n",
    "\n",
    "if mon == 1 or mon == 3 or mon == 5 or mon == 7 or mon == 8 or mon == 10 or mon == 12 :\n",
    "    print(\"31일 까지\")\n",
    "elif mon == 2 :\n",
    "    print(\"28일 또는 29일 까지\")\n",
    "elif mon == 4 or mon == 6 or mon == 9 or mon == 11 :\n",
    "    print(\"30일 까지\")\n",
    "else :\n",
    "    print(\"입력 오류\")"
   ]
  },
  {
   "cell_type": "code",
   "execution_count": 15,
   "id": "786f54fd",
   "metadata": {
    "scrolled": true
   },
   "outputs": [
    {
     "name": "stdout",
     "output_type": "stream",
     "text": [
      "월을 입력하세요 ; 12\n",
      "31일 까지\n"
     ]
    }
   ],
   "source": [
    "# 코드 리스트 사용\n",
    "\n",
    "mon = int(input(\"월을 입력하세요 ; \"))\n",
    "\n",
    "if mon in [1,3,5,7,8,10,12] :\n",
    "    print(\"31일 까지\")\n",
    "elif mon == 2 :\n",
    "    print(\"28일 또는 29일 까지\")\n",
    "elif mon in [4,6,9,11] :\n",
    "    print(\"30일 까지\")\n",
    "else :\n",
    "    print(\"입력 오류\")"
   ]
  }
 ],
 "metadata": {
  "kernelspec": {
   "display_name": "Python 3 (ipykernel)",
   "language": "python",
   "name": "python3"
  },
  "language_info": {
   "codemirror_mode": {
    "name": "ipython",
    "version": 3
   },
   "file_extension": ".py",
   "mimetype": "text/x-python",
   "name": "python",
   "nbconvert_exporter": "python",
   "pygments_lexer": "ipython3",
   "version": "3.9.12"
  }
 },
 "nbformat": 4,
 "nbformat_minor": 5
}
