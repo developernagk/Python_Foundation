{
 "cells": [
  {
   "cell_type": "code",
   "execution_count": null,
   "id": "28e41abe",
   "metadata": {},
   "outputs": [],
   "source": [
    "# draw star shape\n",
    "\n",
    "import turtle\n",
    "\n",
    "for i in range(5) :\n",
    "    turtle.forward(200)\n",
    "    turtle.right(144)\n",
    "    \n",
    "turtle.done()"
   ]
  }
 ],
 "metadata": {
  "kernelspec": {
   "display_name": "Python 3 (ipykernel)",
   "language": "python",
   "name": "python3"
  },
  "language_info": {
   "codemirror_mode": {
    "name": "ipython",
    "version": 3
   },
   "file_extension": ".py",
   "mimetype": "text/x-python",
   "name": "python",
   "nbconvert_exporter": "python",
   "pygments_lexer": "ipython3",
   "version": "3.9.12"
  }
 },
 "nbformat": 4,
 "nbformat_minor": 5
}
