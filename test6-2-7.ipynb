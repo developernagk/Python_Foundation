{
 "cells": [
  {
   "cell_type": "code",
   "execution_count": 1,
   "id": "927de019",
   "metadata": {},
   "outputs": [],
   "source": [
    "import turtle\n",
    "\n",
    "t = turtle.Turtle()\n",
    "\n",
    "def drawPolygon(sideLength, numSides, color) :\n",
    "    t.color(color)\n",
    "    turnAngle = 360 / numSides\n",
    "    for i in range(numSides) :\n",
    "        t.pendown()\n",
    "        t.forward(sideLength)\n",
    "        t.right(turnAngle)\n",
    "        \n",
    "for i in range(3) :\n",
    "    t.penup()\n",
    "    t.setposition(40 * i, 0)\n",
    "    drawPolygon(20, 6, \"blue\")\n",
    "    \n",
    "for i in range(5) :\n",
    "    t.penup()\n",
    "    t.setposition(40 * (i - 2), -100)\n",
    "    drawPolygon(40, 4, \"violet\")"
   ]
  }
 ],
 "metadata": {
  "kernelspec": {
   "display_name": "Python 3 (ipykernel)",
   "language": "python",
   "name": "python3"
  },
  "language_info": {
   "codemirror_mode": {
    "name": "ipython",
    "version": 3
   },
   "file_extension": ".py",
   "mimetype": "text/x-python",
   "name": "python",
   "nbconvert_exporter": "python",
   "pygments_lexer": "ipython3",
   "version": "3.9.12"
  }
 },
 "nbformat": 4,
 "nbformat_minor": 5
}
