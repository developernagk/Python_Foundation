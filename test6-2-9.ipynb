{
 "cells": [
  {
   "cell_type": "code",
   "execution_count": 1,
   "id": "a326a449",
   "metadata": {},
   "outputs": [],
   "source": [
    "import turtle\n",
    "\n",
    "win = turtle.Screen()\n",
    "win.bgcolor(\"black\")\n",
    "\n",
    "one = turtle.Turtle()\n",
    "one.color(\"red\")\n",
    "one.pensize(3)\n",
    "\n",
    "def n_one(n, size) :\n",
    "    for i in range(n) :\n",
    "        one.circle(size)\n",
    "        one.left(360.0 / n)\n",
    "        \n",
    "n_one(20, 70)"
   ]
  }
 ],
 "metadata": {
  "kernelspec": {
   "display_name": "Python 3 (ipykernel)",
   "language": "python",
   "name": "python3"
  },
  "language_info": {
   "codemirror_mode": {
    "name": "ipython",
    "version": 3
   },
   "file_extension": ".py",
   "mimetype": "text/x-python",
   "name": "python",
   "nbconvert_exporter": "python",
   "pygments_lexer": "ipython3",
   "version": "3.9.12"
  }
 },
 "nbformat": 4,
 "nbformat_minor": 5
}
