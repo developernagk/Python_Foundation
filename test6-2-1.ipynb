{
 "cells": [
  {
   "cell_type": "code",
   "execution_count": 1,
   "id": "c2c5c3ac",
   "metadata": {},
   "outputs": [],
   "source": [
    "# 미로 그리기\n",
    "\n",
    "import turtle\n",
    "\n",
    "wn = turtle.Screen()\n",
    "wn.bgcolor(\"lightblue\")\n",
    "t = turtle.Turtle()\n",
    "t.shape(\"turtle\")\n",
    "t.color(\"hotpink\")\n",
    "\n",
    "t.penup()\n",
    "size = 20\n",
    "\n",
    "for i in range(50) :\n",
    "    t.stamp()\n",
    "    size = size + 3\n",
    "    t.forward(size)\n",
    "    t.right(24)"
   ]
  }
 ],
 "metadata": {
  "kernelspec": {
   "display_name": "Python 3 (ipykernel)",
   "language": "python",
   "name": "python3"
  },
  "language_info": {
   "codemirror_mode": {
    "name": "ipython",
    "version": 3
   },
   "file_extension": ".py",
   "mimetype": "text/x-python",
   "name": "python",
   "nbconvert_exporter": "python",
   "pygments_lexer": "ipython3",
   "version": "3.9.12"
  }
 },
 "nbformat": 4,
 "nbformat_minor": 5
}
