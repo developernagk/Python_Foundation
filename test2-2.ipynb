{
 "cells": [
  {
   "cell_type": "code",
   "execution_count": 2,
   "id": "81e514bd",
   "metadata": {},
   "outputs": [
    {
     "name": "stdout",
     "output_type": "stream",
     "text": [
      "My name is  나경  and  22 years old.\n"
     ]
    }
   ],
   "source": [
    "name = '나경'\n",
    "age = '22'\n",
    "\n",
    "print('My name is ', name, ' and ', age, 'years old.')"
   ]
  },
  {
   "cell_type": "code",
   "execution_count": 3,
   "id": "5ef5a126",
   "metadata": {},
   "outputs": [
    {
     "name": "stdout",
     "output_type": "stream",
     "text": [
      "Enter your name ; 나경\n",
      "Enter your age ; 22\n",
      "My name is  나경  and  22 years old.\n",
      "My name is \" 나경 \".\n"
     ]
    }
   ],
   "source": [
    "# get name and age from user, and print them\n",
    "\n",
    "name = input('Enter your name ; ')\n",
    "age = input('Enter your age ; ')\n",
    "\n",
    "print('My name is ', name, ' and ', age, 'years old.')\n",
    "print('My name is \\\"', name, '\\\".')"
   ]
  },
  {
   "cell_type": "code",
   "execution_count": 4,
   "id": "56d6f69b",
   "metadata": {},
   "outputs": [
    {
     "name": "stdout",
     "output_type": "stream",
     "text": [
      "첫 번째 실수 입력 : 3\n",
      "두 번째 실수 입력 : 5\n",
      "8.0\n"
     ]
    }
   ],
   "source": [
    "number1 = float(input('첫 번째 실수 입력 : '))\n",
    "number2 = float(input('두 번째 실수 입력 : '))\n",
    "\n",
    "print(number1 + number2)"
   ]
  },
  {
   "cell_type": "code",
   "execution_count": 5,
   "id": "5af39f07",
   "metadata": {},
   "outputs": [
    {
     "name": "stdout",
     "output_type": "stream",
     "text": [
      "정수 입력 : 3\n",
      "***\n"
     ]
    }
   ],
   "source": [
    "number = int(input('정수 입력 : '))\n",
    "\n",
    "print('*' * number)"
   ]
  },
  {
   "cell_type": "code",
   "execution_count": 7,
   "id": "8719fdd3",
   "metadata": {},
   "outputs": [
    {
     "name": "stdout",
     "output_type": "stream",
     "text": [
      "당신이 태어난 년도는?2001\n"
     ]
    },
    {
     "data": {
      "text/plain": [
       "21"
      ]
     },
     "execution_count": 7,
     "metadata": {},
     "output_type": "execute_result"
    }
   ],
   "source": [
    "var = input('당신이 태어난 년도는?')\n",
    "age = 2022 - int(var)\n",
    "age"
   ]
  }
 ],
 "metadata": {
  "kernelspec": {
   "display_name": "Python 3 (ipykernel)",
   "language": "python",
   "name": "python3"
  },
  "language_info": {
   "codemirror_mode": {
    "name": "ipython",
    "version": 3
   },
   "file_extension": ".py",
   "mimetype": "text/x-python",
   "name": "python",
   "nbconvert_exporter": "python",
   "pygments_lexer": "ipython3",
   "version": "3.9.12"
  }
 },
 "nbformat": 4,
 "nbformat_minor": 5
}
