{
 "cells": [
  {
   "cell_type": "code",
   "execution_count": 1,
   "id": "91586485",
   "metadata": {},
   "outputs": [],
   "source": [
    "import turtle\n",
    "\n",
    "t = turtle.Turtle()\n",
    "\n",
    "def drawPolygon(sideLength, numSides, color) :\n",
    "    t.color(color)\n",
    "    turnAngle = 360 / numSides\n",
    "    for i in range(numSides) :\n",
    "        t.pendown()\n",
    "        t.forward(sideLength)\n",
    "        t.right(turnAngle)\n",
    "        \n",
    "t.penup()\n",
    "t.setposition(-50, 0)\n",
    "drawPolygon(50, 5, \"blue\")\n",
    "        \n",
    "t.penup()\n",
    "t.setposition(100, 0)\n",
    "drawPolygon(50, 8 , \"hotpink\")"
   ]
  }
 ],
 "metadata": {
  "kernelspec": {
   "display_name": "Python 3 (ipykernel)",
   "language": "python",
   "name": "python3"
  },
  "language_info": {
   "codemirror_mode": {
    "name": "ipython",
    "version": 3
   },
   "file_extension": ".py",
   "mimetype": "text/x-python",
   "name": "python",
   "nbconvert_exporter": "python",
   "pygments_lexer": "ipython3",
   "version": "3.9.12"
  }
 },
 "nbformat": 4,
 "nbformat_minor": 5
}
