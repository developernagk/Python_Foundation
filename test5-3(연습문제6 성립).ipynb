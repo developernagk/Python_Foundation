{
 "cells": [
  {
   "cell_type": "code",
   "execution_count": 1,
   "id": "35a34bdd",
   "metadata": {},
   "outputs": [
    {
     "name": "stdout",
     "output_type": "stream",
     "text": [
      "단어입력 : apple\n",
      "찾을문자 : e\n",
      "5 번째에  e 가 있음\n"
     ]
    }
   ],
   "source": [
    "word = input(\"단어입력 : \")\n",
    "test = input(\"찾을문자 : \")\n",
    "\n",
    "count = 0\n",
    "\n",
    "for char in word :\n",
    "    count = count + 1\n",
    "    if char == test :\n",
    "        print(count, \"번째에 \", test, \"가 있음\")\n",
    "        break\n",
    "    elif count >= len(word) :\n",
    "        print(\"아무것도 없음\")\n",
    "        break"
   ]
  }
 ],
 "metadata": {
  "kernelspec": {
   "display_name": "Python 3 (ipykernel)",
   "language": "python",
   "name": "python3"
  },
  "language_info": {
   "codemirror_mode": {
    "name": "ipython",
    "version": 3
   },
   "file_extension": ".py",
   "mimetype": "text/x-python",
   "name": "python",
   "nbconvert_exporter": "python",
   "pygments_lexer": "ipython3",
   "version": "3.9.12"
  }
 },
 "nbformat": 4,
 "nbformat_minor": 5
}
