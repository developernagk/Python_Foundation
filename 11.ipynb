{
 "cells": [
  {
   "cell_type": "code",
   "execution_count": 1,
   "id": "832d474d",
   "metadata": {},
   "outputs": [],
   "source": [
    "import turtle\n",
    "\n",
    "wn = turtle.Screen()\n",
    "wn.bgcolor(\"lightblue\")\n",
    "wn.title(\"Draw Triangle\")\n",
    "\n",
    "t = turtle.Turtle()\n",
    "t.color(\"hotpink\")\n",
    "t.pensize(3)\n",
    "\n",
    "t.penup()\n",
    "t.goto(0,250)\n",
    "t.pendown()\n",
    "\n",
    "for i in range(3) :\n",
    "    t.forward(80)\n",
    "    t.left(120)\n",
    "    \n",
    "t.penup()\n",
    "t.right(180)\n",
    "t.forward(80)"
   ]
  }
 ],
 "metadata": {
  "kernelspec": {
   "display_name": "Python 3 (ipykernel)",
   "language": "python",
   "name": "python3"
  },
  "language_info": {
   "codemirror_mode": {
    "name": "ipython",
    "version": 3
   },
   "file_extension": ".py",
   "mimetype": "text/x-python",
   "name": "python",
   "nbconvert_exporter": "python",
   "pygments_lexer": "ipython3",
   "version": "3.9.12"
  }
 },
 "nbformat": 4,
 "nbformat_minor": 5
}
