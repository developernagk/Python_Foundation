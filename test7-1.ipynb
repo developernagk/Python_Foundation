{
 "cells": [
  {
   "cell_type": "code",
   "execution_count": 1,
   "id": "27532858",
   "metadata": {},
   "outputs": [
    {
     "name": "stdout",
     "output_type": "stream",
     "text": [
      "a\n"
     ]
    }
   ],
   "source": [
    "name = 'apple'\n",
    "print(name[0])"
   ]
  },
  {
   "cell_type": "code",
   "execution_count": 2,
   "id": "831b80de",
   "metadata": {},
   "outputs": [
    {
     "data": {
      "text/plain": [
       "'CuttyCat'"
      ]
     },
     "execution_count": 2,
     "metadata": {},
     "output_type": "execute_result"
    }
   ],
   "source": [
    "s1 = 'Cutty'\n",
    "s2 = 'Cat'\n",
    "s3 = s1 + s2\n",
    "s3"
   ]
  },
  {
   "cell_type": "code",
   "execution_count": 3,
   "id": "7376a06f",
   "metadata": {},
   "outputs": [
    {
     "data": {
      "text/plain": [
       "'CuttyCuttyCutty'"
      ]
     },
     "execution_count": 3,
     "metadata": {},
     "output_type": "execute_result"
    }
   ],
   "source": [
    "s1 * 3"
   ]
  },
  {
   "cell_type": "code",
   "execution_count": 4,
   "id": "29a384cb",
   "metadata": {},
   "outputs": [
    {
     "data": {
      "text/plain": [
       "'@@@@@@@@@@'"
      ]
     },
     "execution_count": 4,
     "metadata": {},
     "output_type": "execute_result"
    }
   ],
   "source": [
    "'@' * 10"
   ]
  },
  {
   "cell_type": "code",
   "execution_count": 5,
   "id": "95405527",
   "metadata": {},
   "outputs": [
    {
     "data": {
      "text/plain": [
       "False"
      ]
     },
     "execution_count": 5,
     "metadata": {},
     "output_type": "execute_result"
    }
   ],
   "source": [
    "s1 = 'cat'\n",
    "s2 = 'Cat'\n",
    "s1 == s2"
   ]
  },
  {
   "cell_type": "code",
   "execution_count": 6,
   "id": "90b4e9fc",
   "metadata": {},
   "outputs": [
    {
     "data": {
      "text/plain": [
       "True"
      ]
     },
     "execution_count": 6,
     "metadata": {},
     "output_type": "execute_result"
    }
   ],
   "source": [
    "s1 == 'cat'"
   ]
  },
  {
   "cell_type": "code",
   "execution_count": 7,
   "id": "67c0b8e9",
   "metadata": {},
   "outputs": [
    {
     "data": {
      "text/plain": [
       "True"
      ]
     },
     "execution_count": 7,
     "metadata": {},
     "output_type": "execute_result"
    }
   ],
   "source": [
    "s1 > 'bird'"
   ]
  },
  {
   "cell_type": "code",
   "execution_count": 8,
   "id": "d502804f",
   "metadata": {},
   "outputs": [
    {
     "data": {
      "text/plain": [
       "6"
      ]
     },
     "execution_count": 8,
     "metadata": {},
     "output_type": "execute_result"
    }
   ],
   "source": [
    "fruit = 'banana'\n",
    "len(fruit)"
   ]
  },
  {
   "cell_type": "code",
   "execution_count": 9,
   "id": "67e60c37",
   "metadata": {},
   "outputs": [
    {
     "ename": "IndexError",
     "evalue": "string index out of range",
     "output_type": "error",
     "traceback": [
      "\u001b[0;31m---------------------------------------------------------------------------\u001b[0m",
      "\u001b[0;31mIndexError\u001b[0m                                Traceback (most recent call last)",
      "Input \u001b[0;32mIn [9]\u001b[0m, in \u001b[0;36m<cell line: 2>\u001b[0;34m()\u001b[0m\n\u001b[1;32m      1\u001b[0m length \u001b[38;5;241m=\u001b[39m \u001b[38;5;28mlen\u001b[39m(fruit)\n\u001b[0;32m----> 2\u001b[0m last \u001b[38;5;241m=\u001b[39m \u001b[43mfruit\u001b[49m\u001b[43m[\u001b[49m\u001b[43mlength\u001b[49m\u001b[43m]\u001b[49m\n",
      "\u001b[0;31mIndexError\u001b[0m: string index out of range"
     ]
    }
   ],
   "source": [
    "length = len(fruit)\n",
    "last = fruit[length]"
   ]
  },
  {
   "cell_type": "code",
   "execution_count": 10,
   "id": "9bd4c13a",
   "metadata": {},
   "outputs": [
    {
     "data": {
      "text/plain": [
       "'a'"
      ]
     },
     "execution_count": 10,
     "metadata": {},
     "output_type": "execute_result"
    }
   ],
   "source": [
    "last = fruit[length - 1]\n",
    "last"
   ]
  },
  {
   "cell_type": "code",
   "execution_count": 12,
   "id": "dc4f165e",
   "metadata": {},
   "outputs": [
    {
     "name": "stdout",
     "output_type": "stream",
     "text": [
      "a\n",
      "p\n",
      "p\n",
      "l\n",
      "e\n"
     ]
    }
   ],
   "source": [
    "fruit = \"apple\"\n",
    "\n",
    "index = 0\n",
    "while index < len(fruit) :\n",
    "    letter = fruit[index]\n",
    "    print(letter)\n",
    "    index = index + 1"
   ]
  },
  {
   "cell_type": "code",
   "execution_count": 13,
   "id": "42248738",
   "metadata": {},
   "outputs": [
    {
     "name": "stdout",
     "output_type": "stream",
     "text": [
      "a\n",
      "p\n",
      "p\n",
      "l\n",
      "e\n"
     ]
    }
   ],
   "source": [
    "fruit = \"apple\"\n",
    "\n",
    "for ch in fruit :\n",
    "    print(ch)"
   ]
  },
  {
   "cell_type": "code",
   "execution_count": 14,
   "id": "37c669bb",
   "metadata": {},
   "outputs": [
    {
     "data": {
      "text/plain": [
       "'Monty'"
      ]
     },
     "execution_count": 14,
     "metadata": {},
     "output_type": "execute_result"
    }
   ],
   "source": [
    "s = 'Monty Python'\n",
    "s[0 : 5] # index 0, 1, 2, 3, 4"
   ]
  },
  {
   "cell_type": "code",
   "execution_count": 15,
   "id": "b214359f",
   "metadata": {},
   "outputs": [
    {
     "data": {
      "text/plain": [
       "'Python'"
      ]
     },
     "execution_count": 15,
     "metadata": {},
     "output_type": "execute_result"
    }
   ],
   "source": [
    "s[6 : 12] # index 6, 7, 8, 9, 10, 11"
   ]
  },
  {
   "cell_type": "code",
   "execution_count": 16,
   "id": "de2fda22",
   "metadata": {},
   "outputs": [
    {
     "data": {
      "text/plain": [
       "'on'"
      ]
     },
     "execution_count": 16,
     "metadata": {},
     "output_type": "execute_result"
    }
   ],
   "source": [
    "s[1 : 3] # index 1, 2"
   ]
  },
  {
   "cell_type": "code",
   "execution_count": 17,
   "id": "08fbf014",
   "metadata": {},
   "outputs": [
    {
     "data": {
      "text/plain": [
       "'ban'"
      ]
     },
     "execution_count": 17,
     "metadata": {},
     "output_type": "execute_result"
    }
   ],
   "source": [
    "fruit = 'banana'\n",
    "fruit[ : 3] # index 0, 1, 2"
   ]
  },
  {
   "cell_type": "code",
   "execution_count": 18,
   "id": "70eb94a6",
   "metadata": {},
   "outputs": [
    {
     "data": {
      "text/plain": [
       "'ana'"
      ]
     },
     "execution_count": 18,
     "metadata": {},
     "output_type": "execute_result"
    }
   ],
   "source": [
    "fruit[3 : ] # index from 3 to last"
   ]
  },
  {
   "cell_type": "code",
   "execution_count": 20,
   "id": "124ec171",
   "metadata": {},
   "outputs": [
    {
     "name": "stdout",
     "output_type": "stream",
     "text": [
      "문자열 입력 : cherry\n",
      "s[0 :  1 ]= c\n",
      "s[0 :  2 ]= ch\n",
      "s[0 :  3 ]= che\n",
      "s[0 :  4 ]= cher\n",
      "s[0 :  5 ]= cherr\n",
      "s[0 :  6 ]= cherry\n"
     ]
    }
   ],
   "source": [
    "# 연습문제1\n",
    "\n",
    "input_str = input(\"문자열 입력 : \")\n",
    "l = len(input_str)\n",
    "index = 0\n",
    "\n",
    "while index < l :\n",
    "    print(\"s[0 : \", index + 1, \"]=\", input_str[0 : index + 1])\n",
    "    index = index + 1"
   ]
  },
  {
   "cell_type": "code",
   "execution_count": 21,
   "id": "fb32dafa",
   "metadata": {},
   "outputs": [
    {
     "data": {
      "text/plain": [
       "'BANANA'"
      ]
     },
     "execution_count": 21,
     "metadata": {},
     "output_type": "execute_result"
    }
   ],
   "source": [
    "word = 'banana'\n",
    "new_word = word.upper()\n",
    "new_word"
   ]
  },
  {
   "cell_type": "code",
   "execution_count": 22,
   "id": "a9cbb56c",
   "metadata": {},
   "outputs": [
    {
     "data": {
      "text/plain": [
       "1"
      ]
     },
     "execution_count": 22,
     "metadata": {},
     "output_type": "execute_result"
    }
   ],
   "source": [
    "word = 'banana'\n",
    "index = word.find('a')\n",
    "index"
   ]
  },
  {
   "cell_type": "code",
   "execution_count": 23,
   "id": "7a6fff0c",
   "metadata": {},
   "outputs": [
    {
     "data": {
      "text/plain": [
       "2"
      ]
     },
     "execution_count": 23,
     "metadata": {},
     "output_type": "execute_result"
    }
   ],
   "source": [
    "word.find('na')"
   ]
  },
  {
   "cell_type": "code",
   "execution_count": 24,
   "id": "fb2eb544",
   "metadata": {},
   "outputs": [
    {
     "data": {
      "text/plain": [
       "4"
      ]
     },
     "execution_count": 24,
     "metadata": {},
     "output_type": "execute_result"
    }
   ],
   "source": [
    "word.find('na', 3) # 두번째 숫자는 찾기 시작하는 index number"
   ]
  },
  {
   "cell_type": "code",
   "execution_count": 25,
   "id": "b75820e7",
   "metadata": {},
   "outputs": [
    {
     "data": {
      "text/plain": [
       "-1"
      ]
     },
     "execution_count": 25,
     "metadata": {},
     "output_type": "execute_result"
    }
   ],
   "source": [
    "name = 'bob'\n",
    "name.find('b', 1, 2) # 세번째 숫자는 어디까지 찾을지 지정하는 index number"
   ]
  },
  {
   "cell_type": "code",
   "execution_count": 26,
   "id": "9164b95f",
   "metadata": {},
   "outputs": [
    {
     "data": {
      "text/plain": [
       "True"
      ]
     },
     "execution_count": 26,
     "metadata": {},
     "output_type": "execute_result"
    }
   ],
   "source": [
    "'a' in 'banana'"
   ]
  },
  {
   "cell_type": "code",
   "execution_count": 27,
   "id": "8c12e7ad",
   "metadata": {},
   "outputs": [
    {
     "data": {
      "text/plain": [
       "False"
      ]
     },
     "execution_count": 27,
     "metadata": {},
     "output_type": "execute_result"
    }
   ],
   "source": [
    "'seed' in 'banana'"
   ]
  },
  {
   "cell_type": "code",
   "execution_count": 28,
   "id": "7c738920",
   "metadata": {},
   "outputs": [
    {
     "data": {
      "text/plain": [
       "True"
      ]
     },
     "execution_count": 28,
     "metadata": {},
     "output_type": "execute_result"
    }
   ],
   "source": [
    "'ana' in 'banana'"
   ]
  },
  {
   "cell_type": "code",
   "execution_count": 29,
   "id": "b5689fcb",
   "metadata": {},
   "outputs": [
    {
     "name": "stdout",
     "output_type": "stream",
     "text": [
      "a\n",
      "e\n",
      "s\n"
     ]
    }
   ],
   "source": [
    "# 함수 사용\n",
    "\n",
    "def in_both(word1, word2) :\n",
    "    for letter in word1 :\n",
    "        if letter in word2 :\n",
    "            print(letter)\n",
    "            \n",
    "in_both('apples', 'oranges')"
   ]
  },
  {
   "cell_type": "code",
   "execution_count": 31,
   "id": "d18eb52a",
   "metadata": {},
   "outputs": [
    {
     "name": "stdout",
     "output_type": "stream",
     "text": [
      "문자열 입력 : cherry\n",
      "찾아 바꿀 문자 : d\n",
      "바꿀 문자가 없네요!\n"
     ]
    }
   ],
   "source": [
    "# 연습문제2\n",
    "\n",
    "Input_Str = input(\"문자열 입력 : \")\n",
    "Input_find = input(\"찾아 바꿀 문자 : \")\n",
    "find_Length = len(Input_find)\n",
    "\n",
    "Index = Input_Str.find(Input_find)\n",
    "\n",
    "if Index == -1 :\n",
    "    print(\"바꿀 문자가 없네요!\")\n",
    "else :\n",
    "    beforeStr = Input_Str[0 : Index]\n",
    "    changeStr = Input_Str[Index : Index + find_Length].upper()\n",
    "    afterStr = Input_Str[Index + find_Length : ]\n",
    "    result = beforeStr + changeStr + afterStr\n",
    "    print(result)"
   ]
  },
  {
   "cell_type": "code",
   "execution_count": 32,
   "id": "b7c799b0",
   "metadata": {},
   "outputs": [
    {
     "name": "stdout",
     "output_type": "stream",
     "text": [
      "문자열 입력 : I love PYTHON !!\n",
      "대소문자를 바꾼 결과 =  i LOVE python !!\n",
      "대문자 갯수는  4\n",
      "소문자 갯수는  7\n",
      "대소문자 아닌 문자 갯수는  5\n"
     ]
    }
   ],
   "source": [
    "# 연습문제3\n",
    "\n",
    "str = input(\"문자열 입력 : \")\n",
    "\n",
    "uppercount = 0\n",
    "lowercount = 0\n",
    "etccount = 0\n",
    "\n",
    "swapstr = str.swapcase()\n",
    "print(\"대소문자를 바꾼 결과 = \", swapstr)\n",
    "\n",
    "for ch in swapstr :\n",
    "    if ch.isupper() :\n",
    "        uppercount += 1\n",
    "    elif ch.islower() :\n",
    "        lowercount += 1\n",
    "    else :\n",
    "        etccount += 1\n",
    "        \n",
    "print(\"대문자 갯수는 \", uppercount)\n",
    "print(\"소문자 갯수는 \", lowercount)\n",
    "print(\"대소문자 아닌 문자 갯수는 \", etccount)"
   ]
  }
 ],
 "metadata": {
  "kernelspec": {
   "display_name": "Python 3 (ipykernel)",
   "language": "python",
   "name": "python3"
  },
  "language_info": {
   "codemirror_mode": {
    "name": "ipython",
    "version": 3
   },
   "file_extension": ".py",
   "mimetype": "text/x-python",
   "name": "python",
   "nbconvert_exporter": "python",
   "pygments_lexer": "ipython3",
   "version": "3.9.12"
  }
 },
 "nbformat": 4,
 "nbformat_minor": 5
}
