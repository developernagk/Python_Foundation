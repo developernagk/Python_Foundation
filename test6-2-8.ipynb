{
 "cells": [
  {
   "cell_type": "code",
   "execution_count": 1,
   "id": "f41fd613",
   "metadata": {},
   "outputs": [],
   "source": [
    "import turtle\n",
    "\n",
    "def flower(t, n, r, angle) :\n",
    "    for i in range(n) :\n",
    "        for i in range(2) :\n",
    "            t.circle(r, angle)\n",
    "            t.left(180 - angle)\n",
    "        t.left(360 / n)\n",
    "        \n",
    "def move(t, length) :\n",
    "    t.pu()\n",
    "    t.fd(length)\n",
    "    t.pd()\n",
    "    \n",
    "b = turtle.Pen()\n",
    "b.color(\"violet\")\n",
    "move(b, -100)\n",
    "\n",
    "for i in range(3) :\n",
    "    flower(b, 6, 30 + (10 * i), 60.0)\n",
    "    b.width(2 * i)"
   ]
  }
 ],
 "metadata": {
  "kernelspec": {
   "display_name": "Python 3 (ipykernel)",
   "language": "python",
   "name": "python3"
  },
  "language_info": {
   "codemirror_mode": {
    "name": "ipython",
    "version": 3
   },
   "file_extension": ".py",
   "mimetype": "text/x-python",
   "name": "python",
   "nbconvert_exporter": "python",
   "pygments_lexer": "ipython3",
   "version": "3.9.12"
  }
 },
 "nbformat": 4,
 "nbformat_minor": 5
}
