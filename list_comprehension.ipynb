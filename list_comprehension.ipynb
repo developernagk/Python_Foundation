{
 "cells": [
  {
   "cell_type": "code",
   "execution_count": 1,
   "id": "91d70e67",
   "metadata": {},
   "outputs": [],
   "source": [
    "import numpy as np"
   ]
  },
  {
   "cell_type": "code",
   "execution_count": 3,
   "id": "9af0a3ec",
   "metadata": {},
   "outputs": [],
   "source": [
    "data = np.random.randint(1, 100, 100)"
   ]
  },
  {
   "cell_type": "code",
   "execution_count": 4,
   "id": "f30ffdb5",
   "metadata": {},
   "outputs": [
    {
     "data": {
      "text/plain": [
       "array([31, 29, 44, 13, 30, 81, 72, 86,  6, 18, 60, 36, 31, 30, 23, 68, 95,\n",
       "       15, 92, 56, 92, 54, 85, 57, 33, 96, 13, 83, 75, 87,  9, 87, 29, 88,\n",
       "       95, 66, 26, 92, 14, 60, 68, 49,  9, 53, 48, 44, 74, 38, 48, 53, 66,\n",
       "       12, 72, 27, 55, 95, 70, 50, 12, 76, 17, 62,  5, 23, 70, 19, 56, 23,\n",
       "       69, 34, 76, 34, 74, 60,  1, 14, 49, 71, 99,  6,  3, 82, 63,  1, 79,\n",
       "       17, 33, 62, 97, 24, 76, 17, 55, 73, 40, 70, 91, 74, 59, 19])"
      ]
     },
     "execution_count": 4,
     "metadata": {},
     "output_type": "execute_result"
    }
   ],
   "source": [
    "data"
   ]
  },
  {
   "cell_type": "code",
   "execution_count": 6,
   "id": "48e10921",
   "metadata": {},
   "outputs": [
    {
     "data": {
      "text/plain": [
       "numpy.ndarray"
      ]
     },
     "execution_count": 6,
     "metadata": {},
     "output_type": "execute_result"
    }
   ],
   "source": [
    "type(data)"
   ]
  },
  {
   "cell_type": "code",
   "execution_count": 7,
   "id": "ad5d13d1",
   "metadata": {},
   "outputs": [
    {
     "data": {
      "text/plain": [
       "100"
      ]
     },
     "execution_count": 7,
     "metadata": {},
     "output_type": "execute_result"
    }
   ],
   "source": [
    "len(data)"
   ]
  },
  {
   "cell_type": "code",
   "execution_count": 8,
   "id": "87ca267d",
   "metadata": {},
   "outputs": [],
   "source": [
    "data_10x = [ value * 10 for value in data ]"
   ]
  },
  {
   "cell_type": "code",
   "execution_count": 9,
   "id": "7633eb5e",
   "metadata": {},
   "outputs": [
    {
     "data": {
      "text/plain": [
       "[310,\n",
       " 290,\n",
       " 440,\n",
       " 130,\n",
       " 300,\n",
       " 810,\n",
       " 720,\n",
       " 860,\n",
       " 60,\n",
       " 180,\n",
       " 600,\n",
       " 360,\n",
       " 310,\n",
       " 300,\n",
       " 230,\n",
       " 680,\n",
       " 950,\n",
       " 150,\n",
       " 920,\n",
       " 560,\n",
       " 920,\n",
       " 540,\n",
       " 850,\n",
       " 570,\n",
       " 330,\n",
       " 960,\n",
       " 130,\n",
       " 830,\n",
       " 750,\n",
       " 870,\n",
       " 90,\n",
       " 870,\n",
       " 290,\n",
       " 880,\n",
       " 950,\n",
       " 660,\n",
       " 260,\n",
       " 920,\n",
       " 140,\n",
       " 600,\n",
       " 680,\n",
       " 490,\n",
       " 90,\n",
       " 530,\n",
       " 480,\n",
       " 440,\n",
       " 740,\n",
       " 380,\n",
       " 480,\n",
       " 530,\n",
       " 660,\n",
       " 120,\n",
       " 720,\n",
       " 270,\n",
       " 550,\n",
       " 950,\n",
       " 700,\n",
       " 500,\n",
       " 120,\n",
       " 760,\n",
       " 170,\n",
       " 620,\n",
       " 50,\n",
       " 230,\n",
       " 700,\n",
       " 190,\n",
       " 560,\n",
       " 230,\n",
       " 690,\n",
       " 340,\n",
       " 760,\n",
       " 340,\n",
       " 740,\n",
       " 600,\n",
       " 10,\n",
       " 140,\n",
       " 490,\n",
       " 710,\n",
       " 990,\n",
       " 60,\n",
       " 30,\n",
       " 820,\n",
       " 630,\n",
       " 10,\n",
       " 790,\n",
       " 170,\n",
       " 330,\n",
       " 620,\n",
       " 970,\n",
       " 240,\n",
       " 760,\n",
       " 170,\n",
       " 550,\n",
       " 730,\n",
       " 400,\n",
       " 700,\n",
       " 910,\n",
       " 740,\n",
       " 590,\n",
       " 190]"
      ]
     },
     "execution_count": 9,
     "metadata": {},
     "output_type": "execute_result"
    }
   ],
   "source": [
    "data_10x"
   ]
  },
  {
   "cell_type": "code",
   "execution_count": 10,
   "id": "b2f7b5d2",
   "metadata": {},
   "outputs": [
    {
     "data": {
      "text/plain": [
       "list"
      ]
     },
     "execution_count": 10,
     "metadata": {},
     "output_type": "execute_result"
    }
   ],
   "source": [
    "type(data_10x)"
   ]
  },
  {
   "cell_type": "code",
   "execution_count": 11,
   "id": "7588393b",
   "metadata": {},
   "outputs": [],
   "source": [
    "odd_data = [ e for e in data if e % 2 == 0 ]"
   ]
  },
  {
   "cell_type": "code",
   "execution_count": 12,
   "id": "fde8d64e",
   "metadata": {},
   "outputs": [
    {
     "data": {
      "text/plain": [
       "[44,\n",
       " 30,\n",
       " 72,\n",
       " 86,\n",
       " 6,\n",
       " 18,\n",
       " 60,\n",
       " 36,\n",
       " 30,\n",
       " 68,\n",
       " 92,\n",
       " 56,\n",
       " 92,\n",
       " 54,\n",
       " 96,\n",
       " 88,\n",
       " 66,\n",
       " 26,\n",
       " 92,\n",
       " 14,\n",
       " 60,\n",
       " 68,\n",
       " 48,\n",
       " 44,\n",
       " 74,\n",
       " 38,\n",
       " 48,\n",
       " 66,\n",
       " 12,\n",
       " 72,\n",
       " 70,\n",
       " 50,\n",
       " 12,\n",
       " 76,\n",
       " 62,\n",
       " 70,\n",
       " 56,\n",
       " 34,\n",
       " 76,\n",
       " 34,\n",
       " 74,\n",
       " 60,\n",
       " 14,\n",
       " 6,\n",
       " 82,\n",
       " 62,\n",
       " 24,\n",
       " 76,\n",
       " 40,\n",
       " 70,\n",
       " 74]"
      ]
     },
     "execution_count": 12,
     "metadata": {},
     "output_type": "execute_result"
    }
   ],
   "source": [
    "odd_data"
   ]
  },
  {
   "cell_type": "code",
   "execution_count": 13,
   "id": "e04d23dc",
   "metadata": {},
   "outputs": [],
   "source": [
    "fizz_buzz = [ 'FizzBuzz' if i%3 == 0 and i%5 == 0 else 'Fizz' if i%3 == 0 else 'Buzz' if i%5 == 0 else i for i in range(1, 51) ]"
   ]
  },
  {
   "cell_type": "code",
   "execution_count": 14,
   "id": "482acbfd",
   "metadata": {},
   "outputs": [
    {
     "data": {
      "text/plain": [
       "[1,\n",
       " 2,\n",
       " 'Fizz',\n",
       " 4,\n",
       " 'Buzz',\n",
       " 'Fizz',\n",
       " 7,\n",
       " 8,\n",
       " 'Fizz',\n",
       " 'Buzz',\n",
       " 11,\n",
       " 'Fizz',\n",
       " 13,\n",
       " 14,\n",
       " 'FizzBuzz',\n",
       " 16,\n",
       " 17,\n",
       " 'Fizz',\n",
       " 19,\n",
       " 'Buzz',\n",
       " 'Fizz',\n",
       " 22,\n",
       " 23,\n",
       " 'Fizz',\n",
       " 'Buzz',\n",
       " 26,\n",
       " 'Fizz',\n",
       " 28,\n",
       " 29,\n",
       " 'FizzBuzz',\n",
       " 31,\n",
       " 32,\n",
       " 'Fizz',\n",
       " 34,\n",
       " 'Buzz',\n",
       " 'Fizz',\n",
       " 37,\n",
       " 38,\n",
       " 'Fizz',\n",
       " 'Buzz',\n",
       " 41,\n",
       " 'Fizz',\n",
       " 43,\n",
       " 44,\n",
       " 'FizzBuzz',\n",
       " 46,\n",
       " 47,\n",
       " 'Fizz',\n",
       " 49,\n",
       " 'Buzz']"
      ]
     },
     "execution_count": 14,
     "metadata": {},
     "output_type": "execute_result"
    }
   ],
   "source": [
    "fizz_buzz"
   ]
  }
 ],
 "metadata": {
  "kernelspec": {
   "display_name": "Python 3 (ipykernel)",
   "language": "python",
   "name": "python3"
  },
  "language_info": {
   "codemirror_mode": {
    "name": "ipython",
    "version": 3
   },
   "file_extension": ".py",
   "mimetype": "text/x-python",
   "name": "python",
   "nbconvert_exporter": "python",
   "pygments_lexer": "ipython3",
   "version": "3.9.12"
  }
 },
 "nbformat": 4,
 "nbformat_minor": 5
}
