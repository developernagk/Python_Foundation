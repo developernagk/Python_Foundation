{
 "cells": [
  {
   "cell_type": "code",
   "execution_count": 1,
   "id": "f812a512",
   "metadata": {},
   "outputs": [
    {
     "name": "stdout",
     "output_type": "stream",
     "text": [
      "5\n",
      "10\n",
      "15\n",
      "20\n",
      "25\n",
      "30\n",
      "35\n",
      "40\n",
      "45\n",
      "50\n",
      "55\n",
      "60\n",
      "65\n",
      "70\n",
      "75\n",
      "80\n",
      "85\n",
      "90\n",
      "95\n",
      "100\n"
     ]
    }
   ],
   "source": [
    "# 연습문제 1\n",
    "\n",
    "i = 1\n",
    "n = 1\n",
    "\n",
    "while n < 100 :\n",
    "    n = i * 5\n",
    "    i = i + 1\n",
    "    print(n)"
   ]
  },
  {
   "cell_type": "code",
   "execution_count": 6,
   "id": "fdda4259",
   "metadata": {},
   "outputs": [
    {
     "name": "stdout",
     "output_type": "stream",
     "text": [
      "5\n",
      "10\n",
      "15\n",
      "20\n",
      "25\n",
      "30\n",
      "35\n",
      "40\n",
      "45\n",
      "50\n",
      "55\n",
      "60\n",
      "65\n",
      "70\n",
      "75\n",
      "80\n",
      "85\n",
      "90\n",
      "95\n",
      "100\n"
     ]
    }
   ],
   "source": [
    "# 연습문제 1(주어진 코드 대신 스스로 해봄)\n",
    "\n",
    "i = 0\n",
    "\n",
    "while i < 100 :\n",
    "    i = i + 5\n",
    "    print(i)"
   ]
  },
  {
   "cell_type": "code",
   "execution_count": 8,
   "id": "d88ac2ec",
   "metadata": {},
   "outputs": [
    {
     "name": "stdout",
     "output_type": "stream",
     "text": [
      "숫자를 입력하시오 : 3\n",
      "3\n",
      "3\n",
      "3\n",
      "num =  3\n"
     ]
    }
   ],
   "source": [
    "# 연습문제 2\n",
    "\n",
    "num = int(input(\"숫자를 입력하시오 : \"))\n",
    "\n",
    "if num != 99999 :\n",
    "    i = 0\n",
    "    while i < num :\n",
    "        print(num)\n",
    "        i = i + 1\n",
    "        \n",
    "print(\"num = \", num)"
   ]
  },
  {
   "cell_type": "code",
   "execution_count": 9,
   "id": "95e6bbeb",
   "metadata": {},
   "outputs": [
    {
     "name": "stdout",
     "output_type": "stream",
     "text": [
      "Do you want to quit?n\n",
      "Do you want to quit?n\n",
      "Do you want to quit?y\n"
     ]
    }
   ],
   "source": [
    "# 연습문제\n",
    "\n",
    "quit = \"n\"\n",
    "\n",
    "while quit != \"y\" :\n",
    "    quit = input(\"Do you want to quit?\")"
   ]
  },
  {
   "cell_type": "code",
   "execution_count": 10,
   "id": "d393ad14",
   "metadata": {},
   "outputs": [
    {
     "name": "stdout",
     "output_type": "stream",
     "text": [
      "비밀번호를 입력하세요 : 3423\n",
      "비밀번호를 입력하세요 : 4544\n",
      "비밀번호를 입력하세요 : 1234\n"
     ]
    }
   ],
   "source": [
    "# 연습문제\n",
    "\n",
    "pwd = \"????\"\n",
    "\n",
    "while pwd != \"1234\" :\n",
    "    pwd = input(\"비밀번호를 입력하세요 : \")"
   ]
  },
  {
   "cell_type": "code",
   "execution_count": 18,
   "id": "559f1724",
   "metadata": {},
   "outputs": [
    {
     "name": "stdout",
     "output_type": "stream",
     "text": [
      "비밀번호를 입력하세요 : 6887\n",
      "비밀번호를 입력하세요 : 1234\n",
      "비밀번호가 정확합니다.\n"
     ]
    }
   ],
   "source": [
    "# 연습문제 3(비밀번호 최대 입력 횟수)\n",
    "\n",
    "pwd = \"????\"\n",
    "count = 1\n",
    "\n",
    "while pwd != \"1234\" and count <= 3 :\n",
    "    pwd = input(\"비밀번호를 입력하세요 : \")\n",
    "    count = count + 1\n",
    "    \n",
    "if count > 3 :\n",
    "    print(\"비밀번호 입력 오류가 3번 발생하여, 처리할 수 없습니다.\")\n",
    "else :\n",
    "    print(\"비밀번호가 정확합니다.\")"
   ]
  },
  {
   "cell_type": "code",
   "execution_count": 19,
   "id": "e15c53ff",
   "metadata": {},
   "outputs": [
    {
     "name": "stdout",
     "output_type": "stream",
     "text": [
      "s =  2\n",
      "s =  3\n",
      "s =  4\n",
      "s =  5\n",
      "s =  6\n",
      "s =  7\n",
      "s =  8\n",
      "s =  9\n",
      "s =  10\n"
     ]
    }
   ],
   "source": [
    "# 연습문제 3-1\n",
    "\n",
    "s = 1\n",
    "n = 1\n",
    "\n",
    "while s < 10 :\n",
    "    s = s + n\n",
    "    print(\"s = \", s)"
   ]
  },
  {
   "cell_type": "code",
   "execution_count": 20,
   "id": "e9dcecda",
   "metadata": {},
   "outputs": [
    {
     "name": "stdout",
     "output_type": "stream",
     "text": [
      "x =  0.5\n",
      "y =  1.5\n",
      "x =  0.25\n",
      "y =  1.75\n",
      "i =  2\n"
     ]
    }
   ],
   "source": [
    "# 연습문제 3-2\n",
    "\n",
    "x = 1.0\n",
    "y = 1.0\n",
    "i = 0\n",
    "\n",
    "while y <= 1.5 :\n",
    "    x = x / 2\n",
    "    y = x + y\n",
    "    i = i + 1\n",
    "    \n",
    "    print(\"x = \", x)\n",
    "    print(\"y = \", y)\n",
    "    \n",
    "print(\"i = \", i)"
   ]
  },
  {
   "cell_type": "code",
   "execution_count": 21,
   "id": "1f09353e",
   "metadata": {},
   "outputs": [
    {
     "name": "stdout",
     "output_type": "stream",
     "text": [
      "정수를 몇개 입력 받을까요? 3\n",
      "숫자를 입력하세요 : 23\n",
      "숫자를 입력하세요 : 54\n",
      "숫자를 입력하세요 : 5\n",
      "입력받은 수의 평균은 =  27.333333333333332\n"
     ]
    }
   ],
   "source": [
    "# 연습문제 4\n",
    "\n",
    "numofnum = 0\n",
    "count = 1\n",
    "sum = 0\n",
    "\n",
    "while numofnum <= 0 :\n",
    "    numofnum = int(input(\"정수를 몇개 입력 받을까요? \"))\n",
    "    \n",
    "while count <= numofnum :\n",
    "    num = float(input(\"숫자를 입력하세요 : \"))\n",
    "    count = count + 1\n",
    "    sum = sum + num\n",
    "    \n",
    "print(\"입력받은 수의 평균은 = \", sum / numofnum)"
   ]
  },
  {
   "cell_type": "code",
   "execution_count": 2,
   "id": "4ea79271",
   "metadata": {},
   "outputs": [
    {
     "name": "stdout",
     "output_type": "stream",
     "text": [
      "성을 입력하세요 : 황\n",
      "성을 입력하세요 : 남\n",
      "성을 입력하세요 : 박\n",
      "성을 입력하세요 : 오\n",
      "성을 입력하세요 : 김\n",
      "입력 오류가 5번 발생하여, 처리할 수 없습니다.\n"
     ]
    }
   ],
   "source": [
    "# 연습문제 5\n",
    "\n",
    "name = \"?\"\n",
    "count = 1\n",
    "\n",
    "while name != \"김\" and name != \"최\" and name != \"이\" and count <= 5 :\n",
    "    name = input(\"성을 입력하세요 : \")\n",
    "    count = count + 1\n",
    "    \n",
    "if name == \"김\" and name == \"최\" and name == \"이\" :\n",
    "    print(\"통과입니다.\")\n",
    "elif count > 5 :\n",
    "    print(\"입력 오류가 5번 발생하여, 처리할 수 없습니다.\")\n",
    "else :\n",
    "    print(\"통과입니다.\")"
   ]
  }
 ],
 "metadata": {
  "kernelspec": {
   "display_name": "Python 3 (ipykernel)",
   "language": "python",
   "name": "python3"
  },
  "language_info": {
   "codemirror_mode": {
    "name": "ipython",
    "version": 3
   },
   "file_extension": ".py",
   "mimetype": "text/x-python",
   "name": "python",
   "nbconvert_exporter": "python",
   "pygments_lexer": "ipython3",
   "version": "3.9.12"
  }
 },
 "nbformat": 4,
 "nbformat_minor": 5
}
