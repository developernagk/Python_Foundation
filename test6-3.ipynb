{
 "cells": [
  {
   "cell_type": "code",
   "execution_count": 1,
   "id": "81d71b21",
   "metadata": {},
   "outputs": [
    {
     "name": "stdout",
     "output_type": "stream",
     "text": [
      "I/O error: [Errno 2] No such file or directory: 'myfile.txt'\n"
     ]
    }
   ],
   "source": [
    "# check File IO\n",
    "\n",
    "import sys\n",
    "\n",
    "try :\n",
    "    inf = open('myfile.txt', 'r')\n",
    "    s = f.readline()\n",
    "    \n",
    "except IOError as err :\n",
    "    print(\"I/O error: {0}\".format(err))"
   ]
  },
  {
   "cell_type": "code",
   "execution_count": 2,
   "id": "4580c46f",
   "metadata": {},
   "outputs": [],
   "source": [
    "# check zero division\n",
    "\n",
    "import sys\n",
    "\n",
    "def divide(x, y) :\n",
    "    try :\n",
    "        result = x / y\n",
    "        \n",
    "    except ZeroDivisionError :\n",
    "        print(\"division by zero!\")\n",
    "        \n",
    "    else :\n",
    "        print(\"result is\", result)\n",
    "        \n",
    "    finally :\n",
    "        print(\"executing finally clause\")"
   ]
  },
  {
   "cell_type": "code",
   "execution_count": 3,
   "id": "fe809acf",
   "metadata": {},
   "outputs": [
    {
     "name": "stdout",
     "output_type": "stream",
     "text": [
      "Please enter an integar : 0.97\n",
      "Oops! Tat was no valid number. Try again...\n",
      "Please enter an integar : 3\n"
     ]
    }
   ],
   "source": [
    "# Try: Exception 1\n",
    "\n",
    "import sys\n",
    "\n",
    "while True :\n",
    "    try :\n",
    "        x = int(input(\"Please enter an integar : \"))\n",
    "        break\n",
    "        \n",
    "    except ValueError :\n",
    "        print(\"Oops! Tat was no valid number. Try again...\")"
   ]
  },
  {
   "cell_type": "code",
   "execution_count": 4,
   "id": "2f244eb0",
   "metadata": {},
   "outputs": [
    {
     "name": "stdout",
     "output_type": "stream",
     "text": [
      "Handling run-time error: division by zero\n"
     ]
    }
   ],
   "source": [
    "# Try: Exception 2\n",
    "\n",
    "import sys\n",
    "\n",
    "try :\n",
    "    x = 1 / 0\n",
    "    \n",
    "except ZeroDivisionError as err :\n",
    "    print('Handling run-time error:', err)"
   ]
  },
  {
   "cell_type": "code",
   "execution_count": 5,
   "id": "6c5b47a5",
   "metadata": {},
   "outputs": [
    {
     "name": "stdout",
     "output_type": "stream",
     "text": [
      "I/O error: [Errno 2] No such file or directory: 'myfile.txt'\n"
     ]
    }
   ],
   "source": [
    "# Except with Multiple Exceptions\n",
    "\n",
    "import sys\n",
    "\n",
    "try :\n",
    "    f = open('myfile.txt', 'r')\n",
    "    s = f.readline()\n",
    "    i = int(s.strip())\n",
    "\n",
    "except IOError as err :\n",
    "    print(\"I/O error: {0}\".format(err))\n",
    "    \n",
    "except ValueError :\n",
    "    print(\"Could not convert data to an integer.\")\n",
    "    \n",
    "except :\n",
    "    print(\"Unexpected error:\", sys.exc_info()[0])"
   ]
  },
  {
   "cell_type": "code",
   "execution_count": 6,
   "id": "4b33f68b",
   "metadata": {},
   "outputs": [
    {
     "name": "stdout",
     "output_type": "stream",
     "text": [
      "Going to close the file\n",
      "['This is my test file for exception handling!!\\n', '===================================']\n"
     ]
    }
   ],
   "source": [
    "# Try-Finally 사용\n",
    "\n",
    "try :\n",
    "    fh = open(\"t.txt\", \"w\")\n",
    "    try :\n",
    "        fh.write(\"This is my test file for exception handling!!\\n\")\n",
    "        fh.write(\"=\" * 35)\n",
    "    \n",
    "    finally :\n",
    "        print(\"Going to close the file\")\n",
    "        fh.close()\n",
    "        fh = open(\"t.txt\", \"r\")\n",
    "        print(fh.readlines())\n",
    "        fh.close()\n",
    "        \n",
    "except IOError :\n",
    "    print(\"Error: can\\'t find file or read data\")"
   ]
  },
  {
   "cell_type": "code",
   "execution_count": 8,
   "id": "8bed5773",
   "metadata": {},
   "outputs": [
    {
     "name": "stdout",
     "output_type": "stream",
     "text": [
      "32.0\n"
     ]
    }
   ],
   "source": [
    "# assert\n",
    "\n",
    "def KToFahrenheit(Temperature) :\n",
    "    assert (Temperature >= 0), print(\"Colder than absolute zero!\")\n",
    "    return ((Temperature - 273) * 1.8) + 32\n",
    "\n",
    "print(KToFahrenheit(273))"
   ]
  },
  {
   "cell_type": "code",
   "execution_count": 9,
   "id": "8585a074",
   "metadata": {},
   "outputs": [
    {
     "name": "stdout",
     "output_type": "stream",
     "text": [
      "451.00399999999996\n"
     ]
    }
   ],
   "source": [
    "# assert\n",
    "\n",
    "def KToFahrenheit(Temperature) :\n",
    "    assert (Temperature >= 0), print(\"Colder than absolute zero!\")\n",
    "    return ((Temperature - 273) * 1.8) + 32\n",
    "\n",
    "print(KToFahrenheit(505.78))"
   ]
  },
  {
   "cell_type": "code",
   "execution_count": 10,
   "id": "c369d562",
   "metadata": {},
   "outputs": [
    {
     "name": "stdout",
     "output_type": "stream",
     "text": [
      "Colder than absolute zero!\n"
     ]
    },
    {
     "ename": "AssertionError",
     "evalue": "None",
     "output_type": "error",
     "traceback": [
      "\u001b[0;31m---------------------------------------------------------------------------\u001b[0m",
      "\u001b[0;31mAssertionError\u001b[0m                            Traceback (most recent call last)",
      "Input \u001b[0;32mIn [10]\u001b[0m, in \u001b[0;36m<cell line: 7>\u001b[0;34m()\u001b[0m\n\u001b[1;32m      4\u001b[0m     \u001b[38;5;28;01massert\u001b[39;00m (Temperature \u001b[38;5;241m>\u001b[39m\u001b[38;5;241m=\u001b[39m \u001b[38;5;241m0\u001b[39m), \u001b[38;5;28mprint\u001b[39m(\u001b[38;5;124m\"\u001b[39m\u001b[38;5;124mColder than absolute zero!\u001b[39m\u001b[38;5;124m\"\u001b[39m)\n\u001b[1;32m      5\u001b[0m     \u001b[38;5;28;01mreturn\u001b[39;00m ((Temperature \u001b[38;5;241m-\u001b[39m \u001b[38;5;241m273\u001b[39m) \u001b[38;5;241m*\u001b[39m \u001b[38;5;241m1.8\u001b[39m) \u001b[38;5;241m+\u001b[39m \u001b[38;5;241m32\u001b[39m\n\u001b[0;32m----> 7\u001b[0m \u001b[38;5;28mprint\u001b[39m(\u001b[43mKToFahrenheit\u001b[49m\u001b[43m(\u001b[49m\u001b[38;5;241;43m-\u001b[39;49m\u001b[38;5;241;43m5\u001b[39;49m\u001b[43m)\u001b[49m)\n",
      "Input \u001b[0;32mIn [10]\u001b[0m, in \u001b[0;36mKToFahrenheit\u001b[0;34m(Temperature)\u001b[0m\n\u001b[1;32m      3\u001b[0m \u001b[38;5;28;01mdef\u001b[39;00m \u001b[38;5;21mKToFahrenheit\u001b[39m(Temperature) :\n\u001b[0;32m----> 4\u001b[0m     \u001b[38;5;28;01massert\u001b[39;00m (Temperature \u001b[38;5;241m>\u001b[39m\u001b[38;5;241m=\u001b[39m \u001b[38;5;241m0\u001b[39m), \u001b[38;5;28mprint\u001b[39m(\u001b[38;5;124m\"\u001b[39m\u001b[38;5;124mColder than absolute zero!\u001b[39m\u001b[38;5;124m\"\u001b[39m)\n\u001b[1;32m      5\u001b[0m     \u001b[38;5;28;01mreturn\u001b[39;00m ((Temperature \u001b[38;5;241m-\u001b[39m \u001b[38;5;241m273\u001b[39m) \u001b[38;5;241m*\u001b[39m \u001b[38;5;241m1.8\u001b[39m) \u001b[38;5;241m+\u001b[39m \u001b[38;5;241m32\u001b[39m\n",
      "\u001b[0;31mAssertionError\u001b[0m: None"
     ]
    }
   ],
   "source": [
    "# assert\n",
    "\n",
    "def KToFahrenheit(Temperature) :\n",
    "    assert (Temperature >= 0), print(\"Colder than absolute zero!\")\n",
    "    return ((Temperature - 273) * 1.8) + 32\n",
    "\n",
    "print(KToFahrenheit(-5))"
   ]
  },
  {
   "cell_type": "code",
   "execution_count": 13,
   "id": "c1a07f81",
   "metadata": {},
   "outputs": [
    {
     "name": "stdout",
     "output_type": "stream",
     "text": [
      "Enter your age : 102\n",
      "나이는 1세에서 100세까지만 입력 가능!\n"
     ]
    },
    {
     "ename": "AssertionError",
     "evalue": "None",
     "output_type": "error",
     "traceback": [
      "\u001b[0;31m---------------------------------------------------------------------------\u001b[0m",
      "\u001b[0;31mAssertionError\u001b[0m                            Traceback (most recent call last)",
      "Input \u001b[0;32mIn [13]\u001b[0m, in \u001b[0;36m<cell line: 5>\u001b[0;34m()\u001b[0m\n\u001b[1;32m      1\u001b[0m \u001b[38;5;66;03m# 연습문제\u001b[39;00m\n\u001b[1;32m      2\u001b[0m \u001b[38;5;66;03m# assert\u001b[39;00m\n\u001b[1;32m      4\u001b[0m age \u001b[38;5;241m=\u001b[39m \u001b[38;5;28mint\u001b[39m(\u001b[38;5;28minput\u001b[39m(\u001b[38;5;124m'\u001b[39m\u001b[38;5;124mEnter your age : \u001b[39m\u001b[38;5;124m'\u001b[39m))\n\u001b[0;32m----> 5\u001b[0m \u001b[38;5;28;01massert\u001b[39;00m(age \u001b[38;5;241m>\u001b[39m \u001b[38;5;241m1\u001b[39m \u001b[38;5;129;01mand\u001b[39;00m age \u001b[38;5;241m<\u001b[39m\u001b[38;5;241m=\u001b[39m \u001b[38;5;241m100\u001b[39m), \u001b[38;5;28mprint\u001b[39m(\u001b[38;5;124m\"\u001b[39m\u001b[38;5;124m나이는 1세에서 100세까지만 입력 가능!\u001b[39m\u001b[38;5;124m\"\u001b[39m)\n\u001b[1;32m      7\u001b[0m \u001b[38;5;28mprint\u001b[39m(\u001b[38;5;124m\"\u001b[39m\u001b[38;5;124mage is \u001b[39m\u001b[38;5;124m\"\u001b[39m, age)\n",
      "\u001b[0;31mAssertionError\u001b[0m: None"
     ]
    }
   ],
   "source": [
    "# 연습문제1\n",
    "# assert\n",
    "\n",
    "age = int(input('Enter your age : '))\n",
    "assert(age > 1 and age <= 100), print(\"나이는 1세에서 100세까지만 입력 가능!\")\n",
    "\n",
    "print(\"age is \", age)"
   ]
  },
  {
   "cell_type": "code",
   "execution_count": 15,
   "id": "e8ce6828",
   "metadata": {},
   "outputs": [
    {
     "name": "stdout",
     "output_type": "stream",
     "text": [
      "Enter your age : 102\n",
      "처리할 수 없는 숫자가 입력되었습니다. 다시 입력해주세요\n",
      "Enter your age : 99\n",
      "입력된 나이는  99 세 입니다.\n"
     ]
    }
   ],
   "source": [
    "# 연습문제2\n",
    "\n",
    "age = int(input('Enter your age : '))\n",
    "\n",
    "while age < 1 or age > 100 :\n",
    "    print(\"처리할 수 없는 숫자가 입력되었습니다. 다시 입력해주세요\")\n",
    "    age = int(input('Enter your age : '))\n",
    "    \n",
    "print(\"입력된 나이는 \", age, \"세 입니다.\")"
   ]
  },
  {
   "cell_type": "code",
   "execution_count": 16,
   "id": "6357715e",
   "metadata": {},
   "outputs": [
    {
     "name": "stdout",
     "output_type": "stream",
     "text": [
      "Enter your age : 0.3\n",
      "처리할 수 없는 문자가 입력되었습니다! 정수로 입력하세요\n",
      "Enter your age : 5\n"
     ]
    }
   ],
   "source": [
    "# 연습문제3\n",
    "\n",
    "import sys\n",
    "\n",
    "while True :\n",
    "    try :\n",
    "        age = int(input('Enter your age : '))\n",
    "        break\n",
    "        \n",
    "    except ValueError :\n",
    "        print(\"처리할 수 없는 문자가 입력되었습니다! 정수로 입력하세요\")"
   ]
  }
 ],
 "metadata": {
  "kernelspec": {
   "display_name": "Python 3 (ipykernel)",
   "language": "python",
   "name": "python3"
  },
  "language_info": {
   "codemirror_mode": {
    "name": "ipython",
    "version": 3
   },
   "file_extension": ".py",
   "mimetype": "text/x-python",
   "name": "python",
   "nbconvert_exporter": "python",
   "pygments_lexer": "ipython3",
   "version": "3.9.12"
  }
 },
 "nbformat": 4,
 "nbformat_minor": 5
}
