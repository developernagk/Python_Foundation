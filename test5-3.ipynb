{
 "cells": [
  {
   "cell_type": "code",
   "execution_count": 1,
   "id": "9b150f8b",
   "metadata": {},
   "outputs": [
    {
     "name": "stdout",
     "output_type": "stream",
     "text": [
      " $\n",
      " $\n",
      " $\n",
      " $\n",
      " $\n",
      " $\n",
      " $\n",
      " $\n",
      " $\n"
     ]
    }
   ],
   "source": [
    "for i in range(3) :\n",
    "    for j in range(3) :\n",
    "        print(\" $\")"
   ]
  },
  {
   "cell_type": "code",
   "execution_count": 2,
   "id": "2a5ae35e",
   "metadata": {},
   "outputs": [
    {
     "name": "stdout",
     "output_type": "stream",
     "text": [
      "#\n",
      " $\n",
      " $\n",
      " $\n",
      " $\n",
      " $\n",
      "#\n",
      " $\n",
      " $\n",
      " $\n",
      " $\n",
      " $\n"
     ]
    }
   ],
   "source": [
    "for i in range(2) :\n",
    "    print(\"#\")\n",
    "    for j in range(5) :\n",
    "        print(\" $\")"
   ]
  },
  {
   "cell_type": "code",
   "execution_count": 3,
   "id": "0354a51d",
   "metadata": {},
   "outputs": [
    {
     "name": "stdout",
     "output_type": "stream",
     "text": [
      "1st level =  2\n",
      "2nd level =  1\n",
      "i * j =  2\n",
      "2nd level =  2\n",
      "i * j =  4\n",
      "2nd level =  3\n",
      "i * j =  6\n",
      "2nd level =  4\n",
      "i * j =  8\n",
      "1st level =  4\n",
      "2nd level =  1\n",
      "i * j =  4\n",
      "2nd level =  2\n",
      "i * j =  8\n",
      "2nd level =  3\n",
      "i * j =  12\n",
      "2nd level =  4\n",
      "i * j =  16\n",
      "1st level =  6\n",
      "2nd level =  1\n",
      "i * j =  6\n",
      "2nd level =  2\n",
      "i * j =  12\n",
      "2nd level =  3\n",
      "i * j =  18\n",
      "2nd level =  4\n",
      "i * j =  24\n"
     ]
    }
   ],
   "source": [
    "# 연습문제1\n",
    "\n",
    "for i in range(2, 7, 2) :\n",
    "    print(\"1st level = \", i)\n",
    "    \n",
    "    for j in range(1, 5, 1) :\n",
    "        print(\"2nd level = \", j)\n",
    "        print(\"i * j = \", i * j)"
   ]
  },
  {
   "cell_type": "code",
   "execution_count": 4,
   "id": "51ba2e76",
   "metadata": {},
   "outputs": [
    {
     "name": "stdout",
     "output_type": "stream",
     "text": [
      "7 th table\n",
      "  7  *  1  =  7\n",
      "  7  *  2  =  14\n",
      "  7  *  3  =  21\n",
      "  7  *  4  =  28\n",
      "  7  *  5  =  35\n",
      "  7  *  6  =  42\n",
      "  7  *  7  =  49\n",
      "  7  *  8  =  56\n",
      "  7  *  9  =  63\n",
      "8 th table\n",
      "  8  *  1  =  8\n",
      "  8  *  2  =  16\n",
      "  8  *  3  =  24\n",
      "  8  *  4  =  32\n",
      "  8  *  5  =  40\n",
      "  8  *  6  =  48\n",
      "  8  *  7  =  56\n",
      "  8  *  8  =  64\n",
      "  8  *  9  =  72\n"
     ]
    }
   ],
   "source": [
    "# 연습문제2(times table : 7, 8)\n",
    "\n",
    "for i in range(7, 9) :\n",
    "    print(i, \"th table\")\n",
    "    \n",
    "    for j in range(1, 10, 1) :\n",
    "        print(\" \", i, \" * \", j, \" = \", i * j)"
   ]
  },
  {
   "cell_type": "code",
   "execution_count": 5,
   "id": "47920d24",
   "metadata": {},
   "outputs": [
    {
     "name": "stdout",
     "output_type": "stream",
     "text": [
      "20\n"
     ]
    }
   ],
   "source": [
    "# 연습문제3\n",
    "# a의 값은 무엇인가?\n",
    "\n",
    "a = 0\n",
    "\n",
    "for i in range(10) :\n",
    "    a = a + 1\n",
    "    \n",
    "for j in range(10) :\n",
    "    a = a + 1\n",
    "        \n",
    "print(a)"
   ]
  },
  {
   "cell_type": "code",
   "execution_count": 6,
   "id": "fbc4fec2",
   "metadata": {},
   "outputs": [
    {
     "name": "stdout",
     "output_type": "stream",
     "text": [
      "110\n"
     ]
    }
   ],
   "source": [
    "# a의 값은 무엇인가?\n",
    "\n",
    "a = 0\n",
    "\n",
    "for i in range(10) :\n",
    "    a = a + 1\n",
    "    for j in range(10) :\n",
    "        a = a + 1\n",
    "        \n",
    "print(a)"
   ]
  },
  {
   "cell_type": "code",
   "execution_count": 7,
   "id": "3ed31748",
   "metadata": {},
   "outputs": [
    {
     "name": "stdout",
     "output_type": "stream",
     "text": [
      "3\n"
     ]
    }
   ],
   "source": [
    "# 연습문제4\n",
    "# 다음은 무엇이 출력되는가?\n",
    "\n",
    "fruit = \"banana\"\n",
    "count = 0\n",
    "\n",
    "for char in fruit :\n",
    "    if char == 'a' :\n",
    "        count = count + 1\n",
    "        \n",
    "print(count)"
   ]
  },
  {
   "cell_type": "code",
   "execution_count": 8,
   "id": "3f45f5fc",
   "metadata": {},
   "outputs": [
    {
     "name": "stdout",
     "output_type": "stream",
     "text": [
      "b\n",
      "1\n"
     ]
    }
   ],
   "source": [
    "# break문 예제1\n",
    "\n",
    "fruit = \"banana\"\n",
    "count = 0\n",
    "\n",
    "for char in fruit :\n",
    "    if char == 'a' :\n",
    "        count = count + 1\n",
    "    elif char == 'n' :\n",
    "        break\n",
    "    else :\n",
    "        print(char)\n",
    "        \n",
    "print(count)"
   ]
  },
  {
   "cell_type": "code",
   "execution_count": 9,
   "id": "86990dc7",
   "metadata": {},
   "outputs": [
    {
     "name": "stdout",
     "output_type": "stream",
     "text": [
      "i + j =  1 and count =  1\n",
      "i + j =  2 and count =  2\n",
      "i + j =  3 and count =  3\n",
      "i + j =  2 and count =  4\n",
      "i + j =  3 and count =  5\n",
      "i + j =  4 and count =  6\n",
      "i + j =  3 and count =  7\n",
      "i + j =  4 and count =  8\n",
      "i + j =  4 and count =  9\n",
      "i + j =  5 last count :  9\n"
     ]
    }
   ],
   "source": [
    "# 예제2\n",
    "# 2개 수를 더한 결과가 5의 배수이면 반복문 종료\n",
    "\n",
    "count = 0\n",
    "\n",
    "for i in range(5) :\n",
    "    for j in range(3) :\n",
    "        if (i + j) % 5 != 0 :\n",
    "            count = count + 1\n",
    "            print(\"i + j = \", i + j, \"and count = \", count)\n",
    "        else :\n",
    "            break\n",
    "            \n",
    "print(\"i + j = \", i + j, \"last count : \", count)"
   ]
  },
  {
   "cell_type": "code",
   "execution_count": 11,
   "id": "21d96cfa",
   "metadata": {},
   "outputs": [
    {
     "name": "stdout",
     "output_type": "stream",
     "text": [
      "input a positive integer : 2\n",
      "2  is a prime number\n"
     ]
    }
   ],
   "source": [
    "# 연습문제5(Prime Number 확인 과정)\n",
    "\n",
    "num = int(input(\"input a positive integer : \"))\n",
    "\n",
    "\n",
    "prime_yes = True\n",
    "\n",
    "for i in range(2, num) :\n",
    "    if num % i == 0 :\n",
    "        prime_yes = False\n",
    "        break\n",
    "        \n",
    "if prime_yes == True :\n",
    "    print(num, \" is a prime number\")\n",
    "else :\n",
    "    print(num, \" is not a prime number\")"
   ]
  },
  {
   "cell_type": "code",
   "execution_count": 1,
   "id": "c738e668",
   "metadata": {},
   "outputs": [
    {
     "name": "stdout",
     "output_type": "stream",
     "text": [
      "단어를 입력하세요 : apple\n",
      "위치를 찾을 한 글자를 입력하세요 : e\n",
      "e 는  apple  내에 없습니다\n"
     ]
    }
   ],
   "source": [
    "# 연습문제6\n",
    "\n",
    "word = input(\"단어를 입력하세요 : \")\n",
    "letter = input(\"위치를 찾을 한 글자를 입력하세요 : \")\n",
    "count = 0\n",
    "\n",
    "for char in word :\n",
    "    count = count + 1\n",
    "    if char == letter :\n",
    "        break\n",
    "    \n",
    "if count == len(word) :\n",
    "    print(letter, \"는 \", word, \" 내에 없습니다\")\n",
    "else :\n",
    "    print(letter, \"는 \", word, \"의 \", count, \" 번째 위치합니다\")"
   ]
  },
  {
   "cell_type": "code",
   "execution_count": null,
   "id": "889b5eaf",
   "metadata": {},
   "outputs": [],
   "source": [
    "# 연습문제7\n",
    "# 사용자에게 메시지를 입력 받음, 메시지 내에서 'a' 개수를 확인하여 출력\n",
    "\n"
   ]
  },
  {
   "cell_type": "code",
   "execution_count": null,
   "id": "cc716c1e",
   "metadata": {},
   "outputs": [],
   "source": [
    "# 연습문제8\n",
    "# 구구단 출력, 2단부터 시작, 몇 단까지 출력할 지는 사용자에게 입력 받음\n",
    "\n"
   ]
  }
 ],
 "metadata": {
  "kernelspec": {
   "display_name": "Python 3 (ipykernel)",
   "language": "python",
   "name": "python3"
  },
  "language_info": {
   "codemirror_mode": {
    "name": "ipython",
    "version": 3
   },
   "file_extension": ".py",
   "mimetype": "text/x-python",
   "name": "python",
   "nbconvert_exporter": "python",
   "pygments_lexer": "ipython3",
   "version": "3.9.12"
  }
 },
 "nbformat": 4,
 "nbformat_minor": 5
}
