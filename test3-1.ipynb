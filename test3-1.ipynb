{
 "cells": [
  {
   "cell_type": "code",
   "execution_count": 1,
   "id": "60615c90",
   "metadata": {},
   "outputs": [
    {
     "name": "stdout",
     "output_type": "stream",
     "text": [
      "Hello. John\n"
     ]
    }
   ],
   "source": [
    "name = \"John\"\n",
    "print(\"Hello.\", name)"
   ]
  },
  {
   "cell_type": "code",
   "execution_count": 2,
   "id": "88201df2",
   "metadata": {},
   "outputs": [
    {
     "name": "stdout",
     "output_type": "stream",
     "text": [
      "78 점 입니다.\n"
     ]
    }
   ],
   "source": [
    "score = 78\n",
    "print(score, \"점 입니다.\")"
   ]
  },
  {
   "cell_type": "code",
   "execution_count": 3,
   "id": "bb756360",
   "metadata": {},
   "outputs": [
    {
     "name": "stdout",
     "output_type": "stream",
     "text": [
      "name John score 78\n"
     ]
    }
   ],
   "source": [
    "print(\"name\", name, \"score\", score)"
   ]
  },
  {
   "cell_type": "code",
   "execution_count": 5,
   "id": "8ebad784",
   "metadata": {},
   "outputs": [
    {
     "name": "stdout",
     "output_type": "stream",
     "text": [
      "i + j =  103\n",
      "**********\n"
     ]
    }
   ],
   "source": [
    "i = 100\n",
    "j = 3\n",
    "print(\"i + j = \", i+j)\n",
    "\n",
    "twinkle = '*'\n",
    "print(twinkle * 10)"
   ]
  },
  {
   "cell_type": "code",
   "execution_count": 6,
   "id": "8971e5cd",
   "metadata": {},
   "outputs": [
    {
     "name": "stdout",
     "output_type": "stream",
     "text": [
      "55\n"
     ]
    }
   ],
   "source": [
    "print(5 + 10 * 5)"
   ]
  },
  {
   "cell_type": "code",
   "execution_count": 7,
   "id": "f1c08a19",
   "metadata": {},
   "outputs": [
    {
     "name": "stdout",
     "output_type": "stream",
     "text": [
      "나는 왜 행복한지 잘 모르겠다,, 넌 어때?\n"
     ]
    }
   ],
   "source": [
    "print(\"나는 왜 행복한지 잘 모르겠다,,\", \"넌 어때?\")"
   ]
  },
  {
   "cell_type": "code",
   "execution_count": 8,
   "id": "60f92e65",
   "metadata": {},
   "outputs": [
    {
     "name": "stdout",
     "output_type": "stream",
     "text": [
      "###### $$$$$$ ^^^^\n"
     ]
    }
   ],
   "source": [
    "print(\"##\" * 3, \"$$$\" * 2, \"^^^^\")"
   ]
  },
  {
   "cell_type": "code",
   "execution_count": 9,
   "id": "585b990c",
   "metadata": {},
   "outputs": [
    {
     "name": "stdout",
     "output_type": "stream",
     "text": [
      "11 13 33\n"
     ]
    }
   ],
   "source": [
    "num = 11\n",
    "print(num, num + 2, num * 3)"
   ]
  },
  {
   "cell_type": "code",
   "execution_count": 10,
   "id": "464aff66",
   "metadata": {},
   "outputs": [
    {
     "data": {
      "text/plain": [
       "11"
      ]
     },
     "execution_count": 10,
     "metadata": {},
     "output_type": "execute_result"
    }
   ],
   "source": [
    "num"
   ]
  },
  {
   "cell_type": "code",
   "execution_count": 11,
   "id": "cde49ce0",
   "metadata": {},
   "outputs": [
    {
     "name": "stdout",
     "output_type": "stream",
     "text": [
      "num =  11\n"
     ]
    }
   ],
   "source": [
    "print(\"num = \", num)"
   ]
  },
  {
   "cell_type": "code",
   "execution_count": 12,
   "id": "85525ddf",
   "metadata": {},
   "outputs": [
    {
     "name": "stdout",
     "output_type": "stream",
     "text": [
      "내 나이는  22 그런데 정신연령은  11 인 것 같아!!\n"
     ]
    }
   ],
   "source": [
    "print(\"내 나이는 \", num * 2, \"그런데 정신연령은 \", num, \"인 것 같아!!\")"
   ]
  },
  {
   "cell_type": "code",
   "execution_count": 13,
   "id": "ab3e09d9",
   "metadata": {},
   "outputs": [
    {
     "name": "stdout",
     "output_type": "stream",
     "text": [
      "당신의 키는? 152\n",
      "당신의 키는  152 입니다\n"
     ]
    }
   ],
   "source": [
    "height = input(\"당신의 키는? \")\n",
    "print(\"당신의 키는 \", height, \"입니다\")"
   ]
  },
  {
   "cell_type": "code",
   "execution_count": 15,
   "id": "558057e1",
   "metadata": {},
   "outputs": [
    {
     "name": "stdout",
     "output_type": "stream",
     "text": [
      "당신의 몸무게를 kg 단위로 입력 : 32\n",
      "당신의 키를 m 단위로 입력 : 1.52\n",
      "당신의  BMI 수치는  13.850415512465373 입니다.\n"
     ]
    }
   ],
   "source": [
    "# BMI계산하기\n",
    "\n",
    "weight = input(\"당신의 몸무게를 kg 단위로 입력 : \")\n",
    "weight = float(weight)\n",
    "\n",
    "height = input(\"당신의 키를 m 단위로 입력 : \")\n",
    "height = float(height)\n",
    "\n",
    "bmi = weight / (height * height)\n",
    "print(\"당신의  BMI 수치는 \", bmi, \"입니다.\")"
   ]
  },
  {
   "cell_type": "code",
   "execution_count": 17,
   "id": "c60b6143",
   "metadata": {},
   "outputs": [
    {
     "name": "stdout",
     "output_type": "stream",
     "text": [
      "당신의 몸무게를 kg 단위로 입력 : 32\n",
      "당신의 키를 m 단위로 입력 : 1.52\n",
      "당신의 BMI 수치는  13.850415512465373 입니다.\n"
     ]
    }
   ],
   "source": [
    "# BMI계산하기(short ver.)\n",
    "\n",
    "weight = float(input(\"당신의 몸무게를 kg 단위로 입력 : \"))\n",
    "height = float(input(\"당신의 키를 m 단위로 입력 : \"))\n",
    "\n",
    "bmi = weight / height ** 2\n",
    "print(\"당신의 BMI 수치는 \", bmi, \"입니다.\")"
   ]
  },
  {
   "cell_type": "code",
   "execution_count": 18,
   "id": "d50ddd91",
   "metadata": {},
   "outputs": [
    {
     "name": "stdout",
     "output_type": "stream",
     "text": [
      "Enter your name ; 김나경\n",
      "김나경\n",
      "Enter your age ; 22\n",
      "22\n",
      "My name is  김나경  and  22 years old.\n",
      "My name is \" 김나경 \".\n"
     ]
    }
   ],
   "source": [
    "# 화면으로부터 입력 받기 예제\n",
    "\n",
    "name = input('Enter your name ; ')\n",
    "print(name)\n",
    "\n",
    "age = input('Enter your age ; ')\n",
    "print(age)\n",
    "\n",
    "print('My name is ', name, ' and ', age, 'years old.')\n",
    "print('My name is \\\"', name, '\\\".')"
   ]
  },
  {
   "cell_type": "code",
   "execution_count": 19,
   "id": "dbfe8e59",
   "metadata": {},
   "outputs": [
    {
     "name": "stdout",
     "output_type": "stream",
     "text": [
      "Enter your name ; 김나경\n",
      "Enter your age ; 22\n",
      "My name is  김나경\n",
      "Age =  22\n"
     ]
    }
   ],
   "source": [
    "name = input('Enter your name ; ')\n",
    "age = input('Enter your age ; ')\n",
    "\n",
    "print('My name is ', name)\n",
    "print('Age = ', age)"
   ]
  },
  {
   "cell_type": "code",
   "execution_count": 20,
   "id": "d0dccf0f",
   "metadata": {},
   "outputs": [
    {
     "name": "stdout",
     "output_type": "stream",
     "text": [
      "당신의 국어 성적은? 90\n",
      "당신의 영어 성적은? 89\n",
      "당신의 수학 성적은? 67\n",
      "3개 과목의 평균은  82.0 입니다.\n"
     ]
    }
   ],
   "source": [
    "# 평균 계산하기\n",
    "\n",
    "kor = input(\"당신의 국어 성적은? \")\n",
    "kor = float(kor)\n",
    "\n",
    "eng = input(\"당신의 영어 성적은? \")\n",
    "eng = float(eng)\n",
    "\n",
    "math = input(\"당신의 수학 성적은? \")\n",
    "math = float(math)\n",
    "\n",
    "avg = (kor + eng + math) / 3\n",
    "print(\"3개 과목의 평균은 \", avg, \"입니다.\")"
   ]
  },
  {
   "cell_type": "code",
   "execution_count": 21,
   "id": "6a946ec4",
   "metadata": {},
   "outputs": [
    {
     "name": "stdout",
     "output_type": "stream",
     "text": [
      "당신의 국어 성적은? 90\n",
      "당신의 영어 성적은? 89\n",
      "당신의 수학 성적은? 67\n",
      "3개 과목의 평균은  82.0 입니다.\n"
     ]
    }
   ],
   "source": [
    "# 평균 계산하기(short ver.)\n",
    "\n",
    "kor = float(input(\"당신의 국어 성적은? \"))\n",
    "eng = float(input(\"당신의 영어 성적은? \"))\n",
    "math = float(input(\"당신의 수학 성적은? \"))\n",
    "\n",
    "avg = (kor + eng + math) / 3\n",
    "print(\"3개 과목의 평균은 \", avg, \"입니다.\")"
   ]
  },
  {
   "cell_type": "code",
   "execution_count": 22,
   "id": "43d9d519",
   "metadata": {},
   "outputs": [
    {
     "name": "stdout",
     "output_type": "stream",
     "text": [
      "이름 3글자를 입력하세요 ; 김나경\n",
      "김김김김김\n",
      "나나나나나\n",
      "경경경경경\n"
     ]
    }
   ],
   "source": [
    "# 이름 나누어서 반복 출력\n",
    "\n",
    "name = input(\"이름 3글자를 입력하세요 ; \")\n",
    "\n",
    "print(name[0] * 5)\n",
    "print(name[1] * 5)\n",
    "print(name[2] * 5)"
   ]
  },
  {
   "cell_type": "code",
   "execution_count": 23,
   "id": "ba7b06be",
   "metadata": {},
   "outputs": [
    {
     "name": "stdout",
     "output_type": "stream",
     "text": [
      "당신의 이름을 입력하세요 ; 김나경\n",
      "당신의 소속기관을 입력하세요 ; 동아대학교\n",
      "당신의 출생년도를 입력하세요 ; 2001\n",
      "당신의 이름은  김나경\n",
      "동아대학교 에 소속되어 있으시군요.\n",
      "당신의 나이는  21 세, 맞죠?\n"
     ]
    }
   ],
   "source": [
    "# 이름, 소속기관, 나이 출력하기\n",
    "\n",
    "name = input(\"당신의 이름을 입력하세요 ; \")\n",
    "belong = input(\"당신의 소속기관을 입력하세요 ; \")\n",
    "birthyear = int(input(\"당신의 출생년도를 입력하세요 ; \"))\n",
    "\n",
    "print(\"당신의 이름은 \", name)\n",
    "print(belong, \"에 소속되어 있으시군요.\")\n",
    "print(\"당신의 나이는 \", 2022 - birthyear, \"세, 맞죠?\")"
   ]
  }
 ],
 "metadata": {
  "kernelspec": {
   "display_name": "Python 3 (ipykernel)",
   "language": "python",
   "name": "python3"
  },
  "language_info": {
   "codemirror_mode": {
    "name": "ipython",
    "version": 3
   },
   "file_extension": ".py",
   "mimetype": "text/x-python",
   "name": "python",
   "nbconvert_exporter": "python",
   "pygments_lexer": "ipython3",
   "version": "3.9.12"
  }
 },
 "nbformat": 4,
 "nbformat_minor": 5
}
