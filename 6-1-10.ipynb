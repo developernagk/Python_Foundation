{
 "cells": [
  {
   "cell_type": "code",
   "execution_count": 1,
   "id": "d964f5e9",
   "metadata": {},
   "outputs": [],
   "source": [
    "import turtle\n",
    "\n",
    "wn = turtle.Screen()\n",
    "wn.bgcolor(\"lightblue\")\n",
    "wn.title(\"Draw Triangle\")\n",
    "\n",
    "t = turtle.Turtle()\n",
    "t.color(\"hotpink\")\n",
    "t.pensize(3)\n",
    "\n",
    "t.goto(0, 250)\n",
    "\n",
    "for i in range(3) :\n",
    "    t.forward(80)\n",
    "    t.left(120)\n",
    "    \n",
    "t.right(180)\n",
    "t.forward(80)"
   ]
  }
 ],
 "metadata": {
  "kernelspec": {
   "display_name": "Python 3 (ipykernel)",
   "language": "python",
   "name": "python3"
  },
  "language_info": {
   "codemirror_mode": {
    "name": "ipython",
    "version": 3
   },
   "file_extension": ".py",
   "mimetype": "text/x-python",
   "name": "python",
   "nbconvert_exporter": "python",
   "pygments_lexer": "ipython3",
   "version": "3.9.12"
  }
 },
 "nbformat": 4,
 "nbformat_minor": 5
}
