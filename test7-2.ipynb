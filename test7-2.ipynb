{
 "cells": [
  {
   "cell_type": "code",
   "execution_count": 1,
   "id": "15ab5fcd",
   "metadata": {},
   "outputs": [
    {
     "name": "stdout",
     "output_type": "stream",
     "text": [
      "[17, 123]\n"
     ]
    }
   ],
   "source": [
    "cheeses = ['Cheddar', 'Edam', 'Gouda']\n",
    "numbers = [17, 123]\n",
    "print(numbers)"
   ]
  },
  {
   "cell_type": "code",
   "execution_count": 2,
   "id": "7c47edcf",
   "metadata": {},
   "outputs": [
    {
     "data": {
      "text/plain": [
       "'Cheddar'"
      ]
     },
     "execution_count": 2,
     "metadata": {},
     "output_type": "execute_result"
    }
   ],
   "source": [
    "cheeses[0]"
   ]
  },
  {
   "cell_type": "code",
   "execution_count": 3,
   "id": "7bb30cf0",
   "metadata": {},
   "outputs": [
    {
     "data": {
      "text/plain": [
       "[17, 123]"
      ]
     },
     "execution_count": 3,
     "metadata": {},
     "output_type": "execute_result"
    }
   ],
   "source": [
    "numbers"
   ]
  },
  {
   "cell_type": "code",
   "execution_count": 4,
   "id": "e5bb9ff1",
   "metadata": {},
   "outputs": [
    {
     "data": {
      "text/plain": [
       "True"
      ]
     },
     "execution_count": 4,
     "metadata": {},
     "output_type": "execute_result"
    }
   ],
   "source": [
    "cheeses = ['Cheddar', 'Edam', 'Gouda']\n",
    "'Edam' in cheeses"
   ]
  },
  {
   "cell_type": "code",
   "execution_count": 5,
   "id": "18005bd1",
   "metadata": {},
   "outputs": [
    {
     "data": {
      "text/plain": [
       "False"
      ]
     },
     "execution_count": 5,
     "metadata": {},
     "output_type": "execute_result"
    }
   ],
   "source": [
    "'Brie' in cheeses"
   ]
  },
  {
   "cell_type": "code",
   "execution_count": 6,
   "id": "6afb23fe",
   "metadata": {},
   "outputs": [
    {
     "data": {
      "text/plain": [
       "['Cheddar', 'Edam', 'Gouda']"
      ]
     },
     "execution_count": 6,
     "metadata": {},
     "output_type": "execute_result"
    }
   ],
   "source": [
    "cheeses"
   ]
  },
  {
   "cell_type": "code",
   "execution_count": 7,
   "id": "b012bf0f",
   "metadata": {},
   "outputs": [
    {
     "name": "stdout",
     "output_type": "stream",
     "text": [
      "Cheddar\n",
      "Edam\n",
      "Gouda\n"
     ]
    }
   ],
   "source": [
    "for food in cheeses :\n",
    "    print(food)"
   ]
  },
  {
   "cell_type": "code",
   "execution_count": 9,
   "id": "0c03e4a4",
   "metadata": {},
   "outputs": [
    {
     "name": "stdout",
     "output_type": "stream",
     "text": [
      "Cheddar\n",
      "Edam\n",
      "Gouda\n",
      "2\n",
      "6\n",
      "10\n",
      "14\n",
      "18\n",
      "22\n",
      "[2, 6, 10, 14, 18, 22]\n"
     ]
    }
   ],
   "source": [
    "cheeses = ['Cheddar', 'Edam', 'Gouda']\n",
    "numbers = [1, 3, 5, 7, 9, 11]\n",
    "\n",
    "for cheese in cheeses :\n",
    "    print(cheese)\n",
    "    \n",
    "for i in range(len(numbers)) :\n",
    "    numbers[i] = numbers[i] * 2\n",
    "    print(numbers[i])\n",
    "    \n",
    "print(numbers)"
   ]
  },
  {
   "cell_type": "code",
   "execution_count": 10,
   "id": "e14cc6d3",
   "metadata": {},
   "outputs": [
    {
     "data": {
      "text/plain": [
       "[1, 2, 3, 4, 5, 6]"
      ]
     },
     "execution_count": 10,
     "metadata": {},
     "output_type": "execute_result"
    }
   ],
   "source": [
    "# The + operator concatenates lists\n",
    "\n",
    "a = [1, 2, 3]\n",
    "b = [4, 5, 6]\n",
    "c = a + b\n",
    "c"
   ]
  },
  {
   "cell_type": "code",
   "execution_count": 11,
   "id": "a81397a6",
   "metadata": {},
   "outputs": [
    {
     "data": {
      "text/plain": [
       "['a', 'a', 'a', 'a']"
      ]
     },
     "execution_count": 11,
     "metadata": {},
     "output_type": "execute_result"
    }
   ],
   "source": [
    "# Similarly, the * operator repeats a list a given number of times\n",
    "\n",
    "['a'] * 4"
   ]
  },
  {
   "cell_type": "code",
   "execution_count": 12,
   "id": "21d8185c",
   "metadata": {},
   "outputs": [
    {
     "data": {
      "text/plain": [
       "[1, 2, 3, 1, 2, 3, 1, 2, 3]"
      ]
     },
     "execution_count": 12,
     "metadata": {},
     "output_type": "execute_result"
    }
   ],
   "source": [
    "a = [1, 2, 3]\n",
    "a * 3"
   ]
  },
  {
   "cell_type": "code",
   "execution_count": 13,
   "id": "1b90cfea",
   "metadata": {},
   "outputs": [
    {
     "data": {
      "text/plain": [
       "['b', 'c']"
      ]
     },
     "execution_count": 13,
     "metadata": {},
     "output_type": "execute_result"
    }
   ],
   "source": [
    "# list slice\n",
    "\n",
    "t = ['a', 'b', 'c', 'd', 'e', 'f']\n",
    "t[1 : 3]"
   ]
  },
  {
   "cell_type": "code",
   "execution_count": 14,
   "id": "a83a2dc0",
   "metadata": {},
   "outputs": [
    {
     "data": {
      "text/plain": [
       "['a', 'b', 'c', 'd']"
      ]
     },
     "execution_count": 14,
     "metadata": {},
     "output_type": "execute_result"
    }
   ],
   "source": [
    "t[ : 4]"
   ]
  },
  {
   "cell_type": "code",
   "execution_count": 15,
   "id": "868547ec",
   "metadata": {},
   "outputs": [
    {
     "data": {
      "text/plain": [
       "['d', 'e', 'f']"
      ]
     },
     "execution_count": 15,
     "metadata": {},
     "output_type": "execute_result"
    }
   ],
   "source": [
    "t[3 : ]"
   ]
  },
  {
   "cell_type": "code",
   "execution_count": 16,
   "id": "32f92fef",
   "metadata": {},
   "outputs": [
    {
     "name": "stdout",
     "output_type": "stream",
     "text": [
      "List element 개수 입력 : 4\n",
      "0 번째\n",
      "추가할 element 입력 : 12\n",
      "1 번째\n",
      "추가할 element 입력 : 34\n",
      "2 번째\n",
      "추가할 element 입력 : 2\n",
      "3 번째\n",
      "추가할 element 입력 : 9\n",
      "['12', '34', '2', '9']\n"
     ]
    }
   ],
   "source": [
    "num = int(input(\"List element 개수 입력 : \"))\n",
    "NewList = []\n",
    "tempList = [0]\n",
    "\n",
    "for i in range(num) :\n",
    "    print(i, \"번째\")\n",
    "    t = input(\"추가할 element 입력 : \")\n",
    "    tempList = [t]\n",
    "    NewList = NewList + tempList\n",
    "    \n",
    "print(NewList)"
   ]
  },
  {
   "cell_type": "code",
   "execution_count": 17,
   "id": "d8ab1678",
   "metadata": {},
   "outputs": [
    {
     "data": {
      "text/plain": [
       "['x', 'y', 'z', 'a']"
      ]
     },
     "execution_count": 17,
     "metadata": {},
     "output_type": "execute_result"
    }
   ],
   "source": [
    "# method append\n",
    "\n",
    "t1 = ['x', 'y', 'z']\n",
    "t1.append('a')\n",
    "t1"
   ]
  },
  {
   "cell_type": "code",
   "execution_count": 18,
   "id": "87d78811",
   "metadata": {},
   "outputs": [
    {
     "data": {
      "text/plain": [
       "['x', 'y', 'z', 'a', 'e']"
      ]
     },
     "execution_count": 18,
     "metadata": {},
     "output_type": "execute_result"
    }
   ],
   "source": [
    "t1.append('e')\n",
    "t1"
   ]
  },
  {
   "cell_type": "code",
   "execution_count": 1,
   "id": "59bfe443",
   "metadata": {},
   "outputs": [
    {
     "data": {
      "text/plain": [
       "['x', 'y', 'z']"
      ]
     },
     "execution_count": 1,
     "metadata": {},
     "output_type": "execute_result"
    }
   ],
   "source": [
    "# method insert\n",
    "\n",
    "t1 = ['x', 'y', 'z']\n",
    "t1"
   ]
  },
  {
   "cell_type": "code",
   "execution_count": 2,
   "id": "866af44c",
   "metadata": {},
   "outputs": [
    {
     "data": {
      "text/plain": [
       "['x', 'a', 'y', 'z']"
      ]
     },
     "execution_count": 2,
     "metadata": {},
     "output_type": "execute_result"
    }
   ],
   "source": [
    "t1.insert(1, 'a')\n",
    "t1"
   ]
  },
  {
   "cell_type": "code",
   "execution_count": 4,
   "id": "24c24221",
   "metadata": {},
   "outputs": [
    {
     "data": {
      "text/plain": [
       "['x', 'e', 'a', 'y', 'z']"
      ]
     },
     "execution_count": 4,
     "metadata": {},
     "output_type": "execute_result"
    }
   ],
   "source": [
    "t1.insert(1, 'e')\n",
    "t1"
   ]
  },
  {
   "cell_type": "code",
   "execution_count": 5,
   "id": "491721d0",
   "metadata": {},
   "outputs": [
    {
     "data": {
      "text/plain": [
       "['x', 'y', 'z', 'd', 'e']"
      ]
     },
     "execution_count": 5,
     "metadata": {},
     "output_type": "execute_result"
    }
   ],
   "source": [
    "# method extend\n",
    "\n",
    "t1 = ['x', 'y', 'z']\n",
    "t2 = ['d', 'e']\n",
    "t1.extend(t2)\n",
    "t1"
   ]
  },
  {
   "cell_type": "code",
   "execution_count": 6,
   "id": "b9e59dea",
   "metadata": {},
   "outputs": [
    {
     "data": {
      "text/plain": [
       "['d', 'e', 'x', 'y', 'z', 'd', 'e']"
      ]
     },
     "execution_count": 6,
     "metadata": {},
     "output_type": "execute_result"
    }
   ],
   "source": [
    "t2.extend(t1)\n",
    "t2"
   ]
  },
  {
   "cell_type": "code",
   "execution_count": 7,
   "id": "5f321091",
   "metadata": {},
   "outputs": [
    {
     "data": {
      "text/plain": [
       "['a', 'b', 'c', 'd', 'e']"
      ]
     },
     "execution_count": 7,
     "metadata": {},
     "output_type": "execute_result"
    }
   ],
   "source": [
    "# method sort\n",
    "\n",
    "t = ['d', 'c', 'e', 'b', 'a']\n",
    "t.sort()\n",
    "t"
   ]
  },
  {
   "cell_type": "code",
   "execution_count": 11,
   "id": "009003b3",
   "metadata": {},
   "outputs": [
    {
     "data": {
      "text/plain": [
       "['b', 'd', 'e']"
      ]
     },
     "execution_count": 11,
     "metadata": {},
     "output_type": "execute_result"
    }
   ],
   "source": [
    "# method pop(index)\n",
    "\n",
    "t = ['a', 'b', 'c', 'd', 'e']\n",
    "x = t.pop(0) + t.pop(1) # 아마 0번째를 제거해서 bcde가 남았는데 t.pop(1)이 bcde 리스트로 인식해서 c가 없어진 듯\n",
    "t"
   ]
  },
  {
   "cell_type": "code",
   "execution_count": 12,
   "id": "738e7608",
   "metadata": {},
   "outputs": [
    {
     "data": {
      "text/plain": [
       "['b', 'd', 'e', 'a']"
      ]
     },
     "execution_count": 12,
     "metadata": {},
     "output_type": "execute_result"
    }
   ],
   "source": [
    "t.append('a')\n",
    "t"
   ]
  },
  {
   "cell_type": "code",
   "execution_count": 13,
   "id": "7bc783bc",
   "metadata": {},
   "outputs": [
    {
     "data": {
      "text/plain": [
       "['a', 'c']"
      ]
     },
     "execution_count": 13,
     "metadata": {},
     "output_type": "execute_result"
    }
   ],
   "source": [
    "# method remove(value)\n",
    "\n",
    "t = ['a', 'b', 'c']\n",
    "t.remove('b')\n",
    "t"
   ]
  },
  {
   "cell_type": "code",
   "execution_count": 14,
   "id": "64d9a3c1",
   "metadata": {},
   "outputs": [
    {
     "name": "stdout",
     "output_type": "stream",
     "text": [
      "f1 + f2 =  ['apple', 'blueberry', 'melon', 'tomato', 'strawberry', 'lemon', 'banana']\n",
      "after sorting =  ['apple', 'banana', 'blackberry', 'blueberry', 'lemon', 'melon', 'strawberry', 'tomato']\n"
     ]
    }
   ],
   "source": [
    "# 활용하기1\n",
    "\n",
    "f1 = ['apple', 'blueberry', 'melon', 'tomato']\n",
    "f2 = ['strawberry', 'lemon', 'banana']\n",
    "f3 = f1 + f2\n",
    "print('f1 + f2 = ', f3)\n",
    "\n",
    "f3.append('blackberry')\n",
    "f3.sort()\n",
    "print(\"after sorting = \", f3)"
   ]
  },
  {
   "cell_type": "code",
   "execution_count": 18,
   "id": "20af7f0d",
   "metadata": {},
   "outputs": [
    {
     "name": "stdout",
     "output_type": "stream",
     "text": [
      "['apple', 'blueberry', 'melon', 'tomato', 'strawberry', 'lemon', 'banana']\n",
      "remove all 'b' elements =  ['apple', 'melon', 'tomato', 'strawberry', 'lemon']\n"
     ]
    }
   ],
   "source": [
    "# 활용하기2\n",
    "\n",
    "f1 = ['apple', 'blueberry', 'melon', 'tomato']\n",
    "f2 = ['strawberry', 'lemon', 'banana']\n",
    "f3 = f1 + f2\n",
    "print(f3)\n",
    "\n",
    "# remove element with its first char 'b'\n",
    "\n",
    "index = len(f3)\n",
    "i = 0\n",
    "\n",
    "while i < index :\n",
    "    if f3[i][0] == \"b\" :\n",
    "        f3.remove(f3[i])\n",
    "        i = i - 1\n",
    "        index = index - 1\n",
    "    i = i + 1\n",
    "    \n",
    "print(\"remove all 'b' elements = \", f3)"
   ]
  },
  {
   "cell_type": "code",
   "execution_count": 19,
   "id": "de1852b4",
   "metadata": {},
   "outputs": [],
   "source": [
    "# 이전 예제 중 일부\n",
    "\n",
    "while i < index :\n",
    "    if f3[i][0] == \"b\" :\n",
    "        f3.remove(f3[i])\n",
    "        i = i - 1\n",
    "        index = index - 1\n",
    "    i = i + 1"
   ]
  },
  {
   "cell_type": "code",
   "execution_count": 20,
   "id": "b9b182e3",
   "metadata": {},
   "outputs": [
    {
     "name": "stdout",
     "output_type": "stream",
     "text": [
      "0 th row :  [0, 1, 2, 3, 4, 5]\n",
      "1 th row :  [1, 2, 3, 4, 5, 6]\n",
      "2 th row :  [2, 3, 4, 5, 6, 7]\n",
      "3 th row :  [3, 4, 5, 6, 7, 8]\n",
      "4 th row :  [4, 5, 6, 7, 8, 9]\n",
      "==================================================\n",
      "all :  [[0, 1, 2, 3, 4, 5], [1, 2, 3, 4, 5, 6], [2, 3, 4, 5, 6, 7], [3, 4, 5, 6, 7, 8], [4, 5, 6, 7, 8, 9]]\n",
      "==================================================\n"
     ]
    }
   ],
   "source": [
    "# 2차원 리스트 활용\n",
    "\n",
    "fq = [[0,0,0,0,0,0],[0,0,0,0,0,0],[0,0,0,0,0,0],[0,0,0,0,0,0],[0,0,0,0,0,0]]\n",
    "\n",
    "for i in range(5) :\n",
    "    for j in range(6) :\n",
    "        fq[i][j] = i + j\n",
    "    print(i, \"th row : \", fq[i])\n",
    "    \n",
    "print(\"=\" * 50)\n",
    "print(\"all : \", fq)\n",
    "print(\"=\" * 50)"
   ]
  },
  {
   "cell_type": "code",
   "execution_count": 22,
   "id": "5258bc3b",
   "metadata": {},
   "outputs": [
    {
     "name": "stdout",
     "output_type": "stream",
     "text": [
      "[['kim', 90, 75], ['park', 89, 95], ['choi', 76, 85]]\n",
      "kim\n",
      "sum =  165 average =  82.5 \n",
      "\n",
      "park\n",
      "sum =  184 average =  92.0 \n",
      "\n",
      "choi\n",
      "sum =  161 average =  80.5 \n",
      "\n"
     ]
    }
   ],
   "source": [
    "# 연습문제1\n",
    "\n",
    "s = [[\"kim\", 90, 75], [\"park\", 89, 95], [\"choi\", 76, 85]]\n",
    "print(s)\n",
    "\n",
    "for i in range(len(s)) :\n",
    "    print(s[i][0])\n",
    "    sum = 0\n",
    "    for j in range(1, len(s[i])) :\n",
    "        sum = sum + s[i][j]\n",
    "        \n",
    "    print(\"sum = \", sum, \"average = \", sum / j, \"\\n\")"
   ]
  },
  {
   "cell_type": "code",
   "execution_count": null,
   "id": "a3a1afdd",
   "metadata": {},
   "outputs": [],
   "source": [
    "# 연습문제2\n",
    "# 2단에서 16단까지 구구단을 계산\n",
    "# 생성한 2차원 리스트 저장\n",
    "# 이때, 각 단을 한 개의 row에 저장\n",
    "# 저장한 결과 출력"
   ]
  }
 ],
 "metadata": {
  "kernelspec": {
   "display_name": "Python 3 (ipykernel)",
   "language": "python",
   "name": "python3"
  },
  "language_info": {
   "codemirror_mode": {
    "name": "ipython",
    "version": 3
   },
   "file_extension": ".py",
   "mimetype": "text/x-python",
   "name": "python",
   "nbconvert_exporter": "python",
   "pygments_lexer": "ipython3",
   "version": "3.9.12"
  }
 },
 "nbformat": 4,
 "nbformat_minor": 5
}
